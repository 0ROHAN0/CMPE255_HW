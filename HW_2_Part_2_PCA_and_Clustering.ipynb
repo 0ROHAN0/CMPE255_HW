{
  "nbformat": 4,
  "nbformat_minor": 0,
  "metadata": {
    "colab": {
      "provenance": [],
      "toc_visible": true,
      "include_colab_link": true
    },
    "kernelspec": {
      "name": "python3",
      "display_name": "Python 3"
    },
    "language_info": {
      "name": "python"
    }
  },
  "cells": [
    {
      "cell_type": "markdown",
      "metadata": {
        "id": "view-in-github",
        "colab_type": "text"
      },
      "source": [
        "<a href=\"https://colab.research.google.com/github/0ROHAN0/CMPE255_HW/blob/main/HW_2_Part_2_PCA_and_Clustering.ipynb\" target=\"_parent\"><img src=\"https://colab.research.google.com/assets/colab-badge.svg\" alt=\"Open In Colab\"/></a>"
      ]
    },
    {
      "cell_type": "markdown",
      "source": [
        "# HW 2 Part 2: PCA and Clustering on the Bank Marketing Dataset\n",
        "\n",
        "The original dataset is available here: https://archive.ics.uci.edu/ml/datasets/Bank+Marketing\n",
        "We have a modified subset of this dataset to practice data  preprocessing. \n",
        "\n",
        "Perform the following tasks on the provided clean bank marketing dataset before encoding and scaling (bank-hw1.csv contains the dataset and bank-names.txt contains the description of the original dataset). Complete all the [LP] questions to receive a \"low pass\" grade on the homework. The [HP] question specifications combine all parts of the homework. Please refer to Canvas for more details.\n",
        "\n",
        "Note that if you are unable to complete any of the LP questions satisfactorily, you will receive a grade of \"revision required\". You can revise and resubmit your work in exchange for a token. Please review the syllabus for more information on specifications grading.\n",
        "\n",
        "**VERY IMPORTANT**: Include **ALL** the references you used for this assignment, including names of classmates you discuss with. Failure to cite your sources counts as an act of academic dishonesty and will be taken seriously without zero tolerance. You will automatically receive a “fail” grade in the homework and further serious penalties may be imposed.\n",
        "\n",
        "NOTE: You can look for help on the Internet but refrain from referencing too much. Please cite all your sources in your submission. \n",
        "When you submit your assignment, you automatically agree to the following statement. If you do not agree, it is your responsibility to provide the reason.\n",
        "\n",
        "“*I affirm that I have neither given nor received unauthorized help in completing this homework. I am not aware of others receiving such help. I have cited all the sources in the solution file.*”"
      ],
      "metadata": {
        "id": "7Cd_pe4uWiOS"
      }
    },
    {
      "cell_type": "markdown",
      "source": [
        "[LP 1] Import the provided clean data file, your preprocessed dataset from HW1, or clean the dataset here. Extract the following columns:\n",
        "\n",
        "1. duration: all entries must be non-negative\n",
        "2. campaign\n",
        "3. pdays\n",
        "4. previous\n",
        "\n",
        "The set of values in each column and their meaning is provided in the bank-names.txt file. You can use the information to make decisions. Please explain your choices if you are preprocessing the dataset again here OR comment that you are using your preprocessed dataset from HW1. \n",
        "\n",
        "Next, remove outliers using [z-score](https://docs.scipy.org/doc/scipy/reference/generated/scipy.stats.zscore.html). Specifically, you are advised to remove values that have a z-score below -3 or above +3. "
      ],
      "metadata": {
        "id": "FNycoKnlZOCf"
      }
    },
    {
      "cell_type": "code",
      "source": [
        "# Your code for LP1 goes here\n",
        "# Feel free to add cells below this for LP1"
      ],
      "metadata": {
        "id": "_D0t4AeqEmUG"
      },
      "execution_count": 497,
      "outputs": []
    },
    {
      "cell_type": "code",
      "source": [
        "from sklearn.preprocessing import StandardScaler\n",
        "import pandas as pd\n",
        "import numpy as np\n",
        "bank_ds = pd.read_csv('/content/bank_cleaned_dataset.csv')\n",
        "bank_ds\n",
        "# Here I have imported the previousely cleaned dataset from HW1 part2."
      ],
      "metadata": {
        "id": "NSnMnlk-V0LJ",
        "colab": {
          "base_uri": "https://localhost:8080/",
          "height": 505
        },
        "outputId": "76c75a76-6e57-46ab-a55d-e5f013f15570"
      },
      "execution_count": 498,
      "outputs": [
        {
          "output_type": "execute_result",
          "data": {
            "text/plain": [
              "      Unnamed: 0  job  marital  education  default  housing  loan  contact  \\\n",
              "0              0    5        1          2        0        1     1        0   \n",
              "1              1    5        1          2        0        0     0        0   \n",
              "2              2    9        2          1        0        0     0        0   \n",
              "3              3    4        0          1        0        0     0        1   \n",
              "4              4    2        2          0        0        1     0        2   \n",
              "...          ...  ...      ...        ...      ...      ...   ...      ...   \n",
              "2241        2241    7        2          2        0        1     0        0   \n",
              "2242        2242   10        0          1        0        0     0        0   \n",
              "2243        2243    5        2          2        0        1     0        0   \n",
              "2244        2244    3        1          1        0        0     0        0   \n",
              "2245        2245    5        1          2        0        1     0        0   \n",
              "\n",
              "      month  poutcome  y       age   balance       day  duration  campaign  \\\n",
              "0         1         2  0  0.451613  0.024163  0.866667  0.065230  0.163265   \n",
              "1         1         2  0  0.370968  0.029542  0.833333  0.084741  0.306122   \n",
              "2        11         1  1  0.096774  0.032172  0.033333  0.143856  0.000000   \n",
              "3         3         2  0  0.483871  0.034101  0.266667  0.039313  0.081633   \n",
              "4         8         2  0  0.096774  0.025768  0.733333  0.105416  0.000000   \n",
              "...     ...       ... ..       ...       ...       ...       ...       ...   \n",
              "2241     10         0  0  0.161290  0.034152  0.466667  0.059988  0.081633   \n",
              "2242      1         2  0  0.580645  0.088455  0.333333  0.064648  0.000000   \n",
              "2243      0         2  0  0.193548  0.029542  0.466667  0.086488  0.020408   \n",
              "2244      9         2  0  0.483871  0.074879  0.533333  0.050961  0.000000   \n",
              "2245      3         0  1  0.290323  0.080548  0.466667  0.059697  0.000000   \n",
              "\n",
              "         pdays  previous  \n",
              "0     0.000000  0.000000  \n",
              "1     0.000000  0.000000  \n",
              "2     0.222491  0.081081  \n",
              "3     0.000000  0.000000  \n",
              "4     0.000000  0.000000  \n",
              "...        ...       ...  \n",
              "2241  0.332527  0.297297  \n",
              "2242  0.000000  0.000000  \n",
              "2243  0.000000  0.000000  \n",
              "2244  0.000000  0.000000  \n",
              "2245  0.111245  0.243243  \n",
              "\n",
              "[2246 rows x 18 columns]"
            ],
            "text/html": [
              "\n",
              "  <div id=\"df-e5fda1f4-1d8f-40c5-a0f0-ac9aa4cce5b0\">\n",
              "    <div class=\"colab-df-container\">\n",
              "      <div>\n",
              "<style scoped>\n",
              "    .dataframe tbody tr th:only-of-type {\n",
              "        vertical-align: middle;\n",
              "    }\n",
              "\n",
              "    .dataframe tbody tr th {\n",
              "        vertical-align: top;\n",
              "    }\n",
              "\n",
              "    .dataframe thead th {\n",
              "        text-align: right;\n",
              "    }\n",
              "</style>\n",
              "<table border=\"1\" class=\"dataframe\">\n",
              "  <thead>\n",
              "    <tr style=\"text-align: right;\">\n",
              "      <th></th>\n",
              "      <th>Unnamed: 0</th>\n",
              "      <th>job</th>\n",
              "      <th>marital</th>\n",
              "      <th>education</th>\n",
              "      <th>default</th>\n",
              "      <th>housing</th>\n",
              "      <th>loan</th>\n",
              "      <th>contact</th>\n",
              "      <th>month</th>\n",
              "      <th>poutcome</th>\n",
              "      <th>y</th>\n",
              "      <th>age</th>\n",
              "      <th>balance</th>\n",
              "      <th>day</th>\n",
              "      <th>duration</th>\n",
              "      <th>campaign</th>\n",
              "      <th>pdays</th>\n",
              "      <th>previous</th>\n",
              "    </tr>\n",
              "  </thead>\n",
              "  <tbody>\n",
              "    <tr>\n",
              "      <th>0</th>\n",
              "      <td>0</td>\n",
              "      <td>5</td>\n",
              "      <td>1</td>\n",
              "      <td>2</td>\n",
              "      <td>0</td>\n",
              "      <td>1</td>\n",
              "      <td>1</td>\n",
              "      <td>0</td>\n",
              "      <td>1</td>\n",
              "      <td>2</td>\n",
              "      <td>0</td>\n",
              "      <td>0.451613</td>\n",
              "      <td>0.024163</td>\n",
              "      <td>0.866667</td>\n",
              "      <td>0.065230</td>\n",
              "      <td>0.163265</td>\n",
              "      <td>0.000000</td>\n",
              "      <td>0.000000</td>\n",
              "    </tr>\n",
              "    <tr>\n",
              "      <th>1</th>\n",
              "      <td>1</td>\n",
              "      <td>5</td>\n",
              "      <td>1</td>\n",
              "      <td>2</td>\n",
              "      <td>0</td>\n",
              "      <td>0</td>\n",
              "      <td>0</td>\n",
              "      <td>0</td>\n",
              "      <td>1</td>\n",
              "      <td>2</td>\n",
              "      <td>0</td>\n",
              "      <td>0.370968</td>\n",
              "      <td>0.029542</td>\n",
              "      <td>0.833333</td>\n",
              "      <td>0.084741</td>\n",
              "      <td>0.306122</td>\n",
              "      <td>0.000000</td>\n",
              "      <td>0.000000</td>\n",
              "    </tr>\n",
              "    <tr>\n",
              "      <th>2</th>\n",
              "      <td>2</td>\n",
              "      <td>9</td>\n",
              "      <td>2</td>\n",
              "      <td>1</td>\n",
              "      <td>0</td>\n",
              "      <td>0</td>\n",
              "      <td>0</td>\n",
              "      <td>0</td>\n",
              "      <td>11</td>\n",
              "      <td>1</td>\n",
              "      <td>1</td>\n",
              "      <td>0.096774</td>\n",
              "      <td>0.032172</td>\n",
              "      <td>0.033333</td>\n",
              "      <td>0.143856</td>\n",
              "      <td>0.000000</td>\n",
              "      <td>0.222491</td>\n",
              "      <td>0.081081</td>\n",
              "    </tr>\n",
              "    <tr>\n",
              "      <th>3</th>\n",
              "      <td>3</td>\n",
              "      <td>4</td>\n",
              "      <td>0</td>\n",
              "      <td>1</td>\n",
              "      <td>0</td>\n",
              "      <td>0</td>\n",
              "      <td>0</td>\n",
              "      <td>1</td>\n",
              "      <td>3</td>\n",
              "      <td>2</td>\n",
              "      <td>0</td>\n",
              "      <td>0.483871</td>\n",
              "      <td>0.034101</td>\n",
              "      <td>0.266667</td>\n",
              "      <td>0.039313</td>\n",
              "      <td>0.081633</td>\n",
              "      <td>0.000000</td>\n",
              "      <td>0.000000</td>\n",
              "    </tr>\n",
              "    <tr>\n",
              "      <th>4</th>\n",
              "      <td>4</td>\n",
              "      <td>2</td>\n",
              "      <td>2</td>\n",
              "      <td>0</td>\n",
              "      <td>0</td>\n",
              "      <td>1</td>\n",
              "      <td>0</td>\n",
              "      <td>2</td>\n",
              "      <td>8</td>\n",
              "      <td>2</td>\n",
              "      <td>0</td>\n",
              "      <td>0.096774</td>\n",
              "      <td>0.025768</td>\n",
              "      <td>0.733333</td>\n",
              "      <td>0.105416</td>\n",
              "      <td>0.000000</td>\n",
              "      <td>0.000000</td>\n",
              "      <td>0.000000</td>\n",
              "    </tr>\n",
              "    <tr>\n",
              "      <th>...</th>\n",
              "      <td>...</td>\n",
              "      <td>...</td>\n",
              "      <td>...</td>\n",
              "      <td>...</td>\n",
              "      <td>...</td>\n",
              "      <td>...</td>\n",
              "      <td>...</td>\n",
              "      <td>...</td>\n",
              "      <td>...</td>\n",
              "      <td>...</td>\n",
              "      <td>...</td>\n",
              "      <td>...</td>\n",
              "      <td>...</td>\n",
              "      <td>...</td>\n",
              "      <td>...</td>\n",
              "      <td>...</td>\n",
              "      <td>...</td>\n",
              "      <td>...</td>\n",
              "    </tr>\n",
              "    <tr>\n",
              "      <th>2241</th>\n",
              "      <td>2241</td>\n",
              "      <td>7</td>\n",
              "      <td>2</td>\n",
              "      <td>2</td>\n",
              "      <td>0</td>\n",
              "      <td>1</td>\n",
              "      <td>0</td>\n",
              "      <td>0</td>\n",
              "      <td>10</td>\n",
              "      <td>0</td>\n",
              "      <td>0</td>\n",
              "      <td>0.161290</td>\n",
              "      <td>0.034152</td>\n",
              "      <td>0.466667</td>\n",
              "      <td>0.059988</td>\n",
              "      <td>0.081633</td>\n",
              "      <td>0.332527</td>\n",
              "      <td>0.297297</td>\n",
              "    </tr>\n",
              "    <tr>\n",
              "      <th>2242</th>\n",
              "      <td>2242</td>\n",
              "      <td>10</td>\n",
              "      <td>0</td>\n",
              "      <td>1</td>\n",
              "      <td>0</td>\n",
              "      <td>0</td>\n",
              "      <td>0</td>\n",
              "      <td>0</td>\n",
              "      <td>1</td>\n",
              "      <td>2</td>\n",
              "      <td>0</td>\n",
              "      <td>0.580645</td>\n",
              "      <td>0.088455</td>\n",
              "      <td>0.333333</td>\n",
              "      <td>0.064648</td>\n",
              "      <td>0.000000</td>\n",
              "      <td>0.000000</td>\n",
              "      <td>0.000000</td>\n",
              "    </tr>\n",
              "    <tr>\n",
              "      <th>2243</th>\n",
              "      <td>2243</td>\n",
              "      <td>5</td>\n",
              "      <td>2</td>\n",
              "      <td>2</td>\n",
              "      <td>0</td>\n",
              "      <td>1</td>\n",
              "      <td>0</td>\n",
              "      <td>0</td>\n",
              "      <td>0</td>\n",
              "      <td>2</td>\n",
              "      <td>0</td>\n",
              "      <td>0.193548</td>\n",
              "      <td>0.029542</td>\n",
              "      <td>0.466667</td>\n",
              "      <td>0.086488</td>\n",
              "      <td>0.020408</td>\n",
              "      <td>0.000000</td>\n",
              "      <td>0.000000</td>\n",
              "    </tr>\n",
              "    <tr>\n",
              "      <th>2244</th>\n",
              "      <td>2244</td>\n",
              "      <td>3</td>\n",
              "      <td>1</td>\n",
              "      <td>1</td>\n",
              "      <td>0</td>\n",
              "      <td>0</td>\n",
              "      <td>0</td>\n",
              "      <td>0</td>\n",
              "      <td>9</td>\n",
              "      <td>2</td>\n",
              "      <td>0</td>\n",
              "      <td>0.483871</td>\n",
              "      <td>0.074879</td>\n",
              "      <td>0.533333</td>\n",
              "      <td>0.050961</td>\n",
              "      <td>0.000000</td>\n",
              "      <td>0.000000</td>\n",
              "      <td>0.000000</td>\n",
              "    </tr>\n",
              "    <tr>\n",
              "      <th>2245</th>\n",
              "      <td>2245</td>\n",
              "      <td>5</td>\n",
              "      <td>1</td>\n",
              "      <td>2</td>\n",
              "      <td>0</td>\n",
              "      <td>1</td>\n",
              "      <td>0</td>\n",
              "      <td>0</td>\n",
              "      <td>3</td>\n",
              "      <td>0</td>\n",
              "      <td>1</td>\n",
              "      <td>0.290323</td>\n",
              "      <td>0.080548</td>\n",
              "      <td>0.466667</td>\n",
              "      <td>0.059697</td>\n",
              "      <td>0.000000</td>\n",
              "      <td>0.111245</td>\n",
              "      <td>0.243243</td>\n",
              "    </tr>\n",
              "  </tbody>\n",
              "</table>\n",
              "<p>2246 rows × 18 columns</p>\n",
              "</div>\n",
              "      <button class=\"colab-df-convert\" onclick=\"convertToInteractive('df-e5fda1f4-1d8f-40c5-a0f0-ac9aa4cce5b0')\"\n",
              "              title=\"Convert this dataframe to an interactive table.\"\n",
              "              style=\"display:none;\">\n",
              "        \n",
              "  <svg xmlns=\"http://www.w3.org/2000/svg\" height=\"24px\"viewBox=\"0 0 24 24\"\n",
              "       width=\"24px\">\n",
              "    <path d=\"M0 0h24v24H0V0z\" fill=\"none\"/>\n",
              "    <path d=\"M18.56 5.44l.94 2.06.94-2.06 2.06-.94-2.06-.94-.94-2.06-.94 2.06-2.06.94zm-11 1L8.5 8.5l.94-2.06 2.06-.94-2.06-.94L8.5 2.5l-.94 2.06-2.06.94zm10 10l.94 2.06.94-2.06 2.06-.94-2.06-.94-.94-2.06-.94 2.06-2.06.94z\"/><path d=\"M17.41 7.96l-1.37-1.37c-.4-.4-.92-.59-1.43-.59-.52 0-1.04.2-1.43.59L10.3 9.45l-7.72 7.72c-.78.78-.78 2.05 0 2.83L4 21.41c.39.39.9.59 1.41.59.51 0 1.02-.2 1.41-.59l7.78-7.78 2.81-2.81c.8-.78.8-2.07 0-2.86zM5.41 20L4 18.59l7.72-7.72 1.47 1.35L5.41 20z\"/>\n",
              "  </svg>\n",
              "      </button>\n",
              "      \n",
              "  <style>\n",
              "    .colab-df-container {\n",
              "      display:flex;\n",
              "      flex-wrap:wrap;\n",
              "      gap: 12px;\n",
              "    }\n",
              "\n",
              "    .colab-df-convert {\n",
              "      background-color: #E8F0FE;\n",
              "      border: none;\n",
              "      border-radius: 50%;\n",
              "      cursor: pointer;\n",
              "      display: none;\n",
              "      fill: #1967D2;\n",
              "      height: 32px;\n",
              "      padding: 0 0 0 0;\n",
              "      width: 32px;\n",
              "    }\n",
              "\n",
              "    .colab-df-convert:hover {\n",
              "      background-color: #E2EBFA;\n",
              "      box-shadow: 0px 1px 2px rgba(60, 64, 67, 0.3), 0px 1px 3px 1px rgba(60, 64, 67, 0.15);\n",
              "      fill: #174EA6;\n",
              "    }\n",
              "\n",
              "    [theme=dark] .colab-df-convert {\n",
              "      background-color: #3B4455;\n",
              "      fill: #D2E3FC;\n",
              "    }\n",
              "\n",
              "    [theme=dark] .colab-df-convert:hover {\n",
              "      background-color: #434B5C;\n",
              "      box-shadow: 0px 1px 3px 1px rgba(0, 0, 0, 0.15);\n",
              "      filter: drop-shadow(0px 1px 2px rgba(0, 0, 0, 0.3));\n",
              "      fill: #FFFFFF;\n",
              "    }\n",
              "  </style>\n",
              "\n",
              "      <script>\n",
              "        const buttonEl =\n",
              "          document.querySelector('#df-e5fda1f4-1d8f-40c5-a0f0-ac9aa4cce5b0 button.colab-df-convert');\n",
              "        buttonEl.style.display =\n",
              "          google.colab.kernel.accessAllowed ? 'block' : 'none';\n",
              "\n",
              "        async function convertToInteractive(key) {\n",
              "          const element = document.querySelector('#df-e5fda1f4-1d8f-40c5-a0f0-ac9aa4cce5b0');\n",
              "          const dataTable =\n",
              "            await google.colab.kernel.invokeFunction('convertToInteractive',\n",
              "                                                     [key], {});\n",
              "          if (!dataTable) return;\n",
              "\n",
              "          const docLinkHtml = 'Like what you see? Visit the ' +\n",
              "            '<a target=\"_blank\" href=https://colab.research.google.com/notebooks/data_table.ipynb>data table notebook</a>'\n",
              "            + ' to learn more about interactive tables.';\n",
              "          element.innerHTML = '';\n",
              "          dataTable['output_type'] = 'display_data';\n",
              "          await google.colab.output.renderOutput(dataTable, element);\n",
              "          const docLink = document.createElement('div');\n",
              "          docLink.innerHTML = docLinkHtml;\n",
              "          element.appendChild(docLink);\n",
              "        }\n",
              "      </script>\n",
              "    </div>\n",
              "  </div>\n",
              "  "
            ]
          },
          "metadata": {},
          "execution_count": 498
        }
      ]
    },
    {
      "cell_type": "code",
      "source": [
        "bank_ds.drop(['Unnamed: 0'],axis=1,inplace=True)\n",
        "print(\"\\n The mean of each colonn is as under:\\n\\n {}\".format(bank_ds.mean()))\n",
        "print(\"\\n We now use this mean value to normalize the value of colons\\n\")"
      ],
      "metadata": {
        "id": "gnSGKkC9WF5W",
        "colab": {
          "base_uri": "https://localhost:8080/"
        },
        "outputId": "bba1ea68-e856-43bc-c482-0638947610a3"
      },
      "execution_count": 499,
      "outputs": [
        {
          "output_type": "stream",
          "name": "stdout",
          "text": [
            "\n",
            " The mean of each colonn is as under:\n",
            "\n",
            " job          5.340606\n",
            "marital      1.173197\n",
            "education    1.244880\n",
            "default      0.020036\n",
            "housing      0.571683\n",
            "loan         0.167854\n",
            "contact      0.650935\n",
            "month        5.585931\n",
            "poutcome     1.780944\n",
            "y            0.114871\n",
            "age          0.356196\n",
            "balance      0.051856\n",
            "day          0.488874\n",
            "duration     0.108977\n",
            "campaign     0.035978\n",
            "pdays        0.050213\n",
            "previous     0.015980\n",
            "dtype: float64\n",
            "\n",
            " We now use this mean value to normalize the value of colons\n",
            "\n"
          ]
        }
      ]
    },
    {
      "cell_type": "code",
      "source": [
        "# using StandardScaler() to scale the values of the colons; we get mean of 0 and the varience of 1.\n",
        "\n",
        "scale = StandardScaler()      \n",
        "scaled_data_ds = scale.fit_transform(bank_ds)"
      ],
      "metadata": {
        "id": "Lu4DvRFpWkRa"
      },
      "execution_count": 500,
      "outputs": []
    },
    {
      "cell_type": "code",
      "source": [
        "scaled_bank_ds = pd.DataFrame(scaled_data_ds,columns=bank_ds.columns)"
      ],
      "metadata": {
        "id": "WITfqpccWnkc"
      },
      "execution_count": 501,
      "outputs": []
    },
    {
      "cell_type": "code",
      "source": [
        "print(\"The mean of each columns is as under\")\n",
        "scaled_bank_ds.mean()"
      ],
      "metadata": {
        "colab": {
          "base_uri": "https://localhost:8080/"
        },
        "id": "GmGMJY_gWnsf",
        "outputId": "923d5319-1268-472c-b968-b48c27cd4088"
      },
      "execution_count": 502,
      "outputs": [
        {
          "output_type": "stream",
          "name": "stdout",
          "text": [
            "The mean of each columns is as under\n"
          ]
        },
        {
          "output_type": "execute_result",
          "data": {
            "text/plain": [
              "job         -2.530874e-17\n",
              "marital     -6.801723e-17\n",
              "education   -2.214514e-17\n",
              "default     -2.530874e-17\n",
              "housing      2.372694e-17\n",
              "loan         1.138893e-16\n",
              "contact      2.293604e-17\n",
              "month       -3.479951e-17\n",
              "poutcome    -9.886225e-17\n",
              "y            1.265437e-17\n",
              "age          2.847233e-17\n",
              "balance     -4.429029e-17\n",
              "day          2.849770e-17\n",
              "duration    -5.191940e-17\n",
              "campaign    -2.058167e-17\n",
              "pdays        1.742303e-17\n",
              "previous    -1.423616e-17\n",
              "dtype: float64"
            ]
          },
          "metadata": {},
          "execution_count": 502
        }
      ]
    },
    {
      "cell_type": "code",
      "source": [
        "print(\"The standard daviation of each columns is as under\")\n",
        "scaled_bank_ds.std()"
      ],
      "metadata": {
        "colab": {
          "base_uri": "https://localhost:8080/"
        },
        "id": "d6nR8E07WnwX",
        "outputId": "9cd9e0b5-3260-495a-cf85-fb1789315242"
      },
      "execution_count": 503,
      "outputs": [
        {
          "output_type": "stream",
          "name": "stdout",
          "text": [
            "The standard daviation of each columns is as under\n"
          ]
        },
        {
          "output_type": "execute_result",
          "data": {
            "text/plain": [
              "job          1.000223\n",
              "marital      1.000223\n",
              "education    1.000223\n",
              "default      1.000223\n",
              "housing      1.000223\n",
              "loan         1.000223\n",
              "contact      1.000223\n",
              "month        1.000223\n",
              "poutcome     1.000223\n",
              "y            1.000223\n",
              "age          1.000223\n",
              "balance      1.000223\n",
              "day          1.000223\n",
              "duration     1.000223\n",
              "campaign     1.000223\n",
              "pdays        1.000223\n",
              "previous     1.000223\n",
              "dtype: float64"
            ]
          },
          "metadata": {},
          "execution_count": 503
        }
      ]
    },
    {
      "cell_type": "code",
      "source": [
        "new_ds = scaled_bank_ds[['duration','campaign','pdays','previous']]\n",
        "new_dataset = scaled_bank_ds\n",
        "# new.ds()"
      ],
      "metadata": {
        "id": "2EKI29sXYOHo"
      },
      "execution_count": 504,
      "outputs": []
    },
    {
      "cell_type": "code",
      "source": [
        "new_ds.head()"
      ],
      "metadata": {
        "colab": {
          "base_uri": "https://localhost:8080/",
          "height": 206
        },
        "id": "ocCUWLC5YTgb",
        "outputId": "842d0aa9-dad8-4c7d-e099-45d65073141e"
      },
      "execution_count": 505,
      "outputs": [
        {
          "output_type": "execute_result",
          "data": {
            "text/plain": [
              "   duration  campaign     pdays  previous\n",
              "0 -0.558430  2.092755 -0.417824 -0.289657\n",
              "1 -0.309375  4.441498 -0.417824 -0.289657\n",
              "2  0.445224 -0.591522  1.433513  1.180002\n",
              "3 -0.889264  0.750617 -0.417824 -0.289657\n",
              "4 -0.045451 -0.591522 -0.417824 -0.289657"
            ],
            "text/html": [
              "\n",
              "  <div id=\"df-21314100-49bc-442c-8f35-68ff37266fd1\">\n",
              "    <div class=\"colab-df-container\">\n",
              "      <div>\n",
              "<style scoped>\n",
              "    .dataframe tbody tr th:only-of-type {\n",
              "        vertical-align: middle;\n",
              "    }\n",
              "\n",
              "    .dataframe tbody tr th {\n",
              "        vertical-align: top;\n",
              "    }\n",
              "\n",
              "    .dataframe thead th {\n",
              "        text-align: right;\n",
              "    }\n",
              "</style>\n",
              "<table border=\"1\" class=\"dataframe\">\n",
              "  <thead>\n",
              "    <tr style=\"text-align: right;\">\n",
              "      <th></th>\n",
              "      <th>duration</th>\n",
              "      <th>campaign</th>\n",
              "      <th>pdays</th>\n",
              "      <th>previous</th>\n",
              "    </tr>\n",
              "  </thead>\n",
              "  <tbody>\n",
              "    <tr>\n",
              "      <th>0</th>\n",
              "      <td>-0.558430</td>\n",
              "      <td>2.092755</td>\n",
              "      <td>-0.417824</td>\n",
              "      <td>-0.289657</td>\n",
              "    </tr>\n",
              "    <tr>\n",
              "      <th>1</th>\n",
              "      <td>-0.309375</td>\n",
              "      <td>4.441498</td>\n",
              "      <td>-0.417824</td>\n",
              "      <td>-0.289657</td>\n",
              "    </tr>\n",
              "    <tr>\n",
              "      <th>2</th>\n",
              "      <td>0.445224</td>\n",
              "      <td>-0.591522</td>\n",
              "      <td>1.433513</td>\n",
              "      <td>1.180002</td>\n",
              "    </tr>\n",
              "    <tr>\n",
              "      <th>3</th>\n",
              "      <td>-0.889264</td>\n",
              "      <td>0.750617</td>\n",
              "      <td>-0.417824</td>\n",
              "      <td>-0.289657</td>\n",
              "    </tr>\n",
              "    <tr>\n",
              "      <th>4</th>\n",
              "      <td>-0.045451</td>\n",
              "      <td>-0.591522</td>\n",
              "      <td>-0.417824</td>\n",
              "      <td>-0.289657</td>\n",
              "    </tr>\n",
              "  </tbody>\n",
              "</table>\n",
              "</div>\n",
              "      <button class=\"colab-df-convert\" onclick=\"convertToInteractive('df-21314100-49bc-442c-8f35-68ff37266fd1')\"\n",
              "              title=\"Convert this dataframe to an interactive table.\"\n",
              "              style=\"display:none;\">\n",
              "        \n",
              "  <svg xmlns=\"http://www.w3.org/2000/svg\" height=\"24px\"viewBox=\"0 0 24 24\"\n",
              "       width=\"24px\">\n",
              "    <path d=\"M0 0h24v24H0V0z\" fill=\"none\"/>\n",
              "    <path d=\"M18.56 5.44l.94 2.06.94-2.06 2.06-.94-2.06-.94-.94-2.06-.94 2.06-2.06.94zm-11 1L8.5 8.5l.94-2.06 2.06-.94-2.06-.94L8.5 2.5l-.94 2.06-2.06.94zm10 10l.94 2.06.94-2.06 2.06-.94-2.06-.94-.94-2.06-.94 2.06-2.06.94z\"/><path d=\"M17.41 7.96l-1.37-1.37c-.4-.4-.92-.59-1.43-.59-.52 0-1.04.2-1.43.59L10.3 9.45l-7.72 7.72c-.78.78-.78 2.05 0 2.83L4 21.41c.39.39.9.59 1.41.59.51 0 1.02-.2 1.41-.59l7.78-7.78 2.81-2.81c.8-.78.8-2.07 0-2.86zM5.41 20L4 18.59l7.72-7.72 1.47 1.35L5.41 20z\"/>\n",
              "  </svg>\n",
              "      </button>\n",
              "      \n",
              "  <style>\n",
              "    .colab-df-container {\n",
              "      display:flex;\n",
              "      flex-wrap:wrap;\n",
              "      gap: 12px;\n",
              "    }\n",
              "\n",
              "    .colab-df-convert {\n",
              "      background-color: #E8F0FE;\n",
              "      border: none;\n",
              "      border-radius: 50%;\n",
              "      cursor: pointer;\n",
              "      display: none;\n",
              "      fill: #1967D2;\n",
              "      height: 32px;\n",
              "      padding: 0 0 0 0;\n",
              "      width: 32px;\n",
              "    }\n",
              "\n",
              "    .colab-df-convert:hover {\n",
              "      background-color: #E2EBFA;\n",
              "      box-shadow: 0px 1px 2px rgba(60, 64, 67, 0.3), 0px 1px 3px 1px rgba(60, 64, 67, 0.15);\n",
              "      fill: #174EA6;\n",
              "    }\n",
              "\n",
              "    [theme=dark] .colab-df-convert {\n",
              "      background-color: #3B4455;\n",
              "      fill: #D2E3FC;\n",
              "    }\n",
              "\n",
              "    [theme=dark] .colab-df-convert:hover {\n",
              "      background-color: #434B5C;\n",
              "      box-shadow: 0px 1px 3px 1px rgba(0, 0, 0, 0.15);\n",
              "      filter: drop-shadow(0px 1px 2px rgba(0, 0, 0, 0.3));\n",
              "      fill: #FFFFFF;\n",
              "    }\n",
              "  </style>\n",
              "\n",
              "      <script>\n",
              "        const buttonEl =\n",
              "          document.querySelector('#df-21314100-49bc-442c-8f35-68ff37266fd1 button.colab-df-convert');\n",
              "        buttonEl.style.display =\n",
              "          google.colab.kernel.accessAllowed ? 'block' : 'none';\n",
              "\n",
              "        async function convertToInteractive(key) {\n",
              "          const element = document.querySelector('#df-21314100-49bc-442c-8f35-68ff37266fd1');\n",
              "          const dataTable =\n",
              "            await google.colab.kernel.invokeFunction('convertToInteractive',\n",
              "                                                     [key], {});\n",
              "          if (!dataTable) return;\n",
              "\n",
              "          const docLinkHtml = 'Like what you see? Visit the ' +\n",
              "            '<a target=\"_blank\" href=https://colab.research.google.com/notebooks/data_table.ipynb>data table notebook</a>'\n",
              "            + ' to learn more about interactive tables.';\n",
              "          element.innerHTML = '';\n",
              "          dataTable['output_type'] = 'display_data';\n",
              "          await google.colab.output.renderOutput(dataTable, element);\n",
              "          const docLink = document.createElement('div');\n",
              "          docLink.innerHTML = docLinkHtml;\n",
              "          element.appendChild(docLink);\n",
              "        }\n",
              "      </script>\n",
              "    </div>\n",
              "  </div>\n",
              "  "
            ]
          },
          "metadata": {},
          "execution_count": 505
        }
      ]
    },
    {
      "cell_type": "code",
      "source": [
        "new_ds.shape"
      ],
      "metadata": {
        "colab": {
          "base_uri": "https://localhost:8080/"
        },
        "id": "uY-KlQq9cNtD",
        "outputId": "94734132-7df7-41bb-9346-5d4275a9a1d9"
      },
      "execution_count": 506,
      "outputs": [
        {
          "output_type": "execute_result",
          "data": {
            "text/plain": [
              "(2246, 4)"
            ]
          },
          "metadata": {},
          "execution_count": 506
        }
      ]
    },
    {
      "cell_type": "code",
      "source": [
        "new_ds.isna().sum()"
      ],
      "metadata": {
        "colab": {
          "base_uri": "https://localhost:8080/"
        },
        "id": "dX-CQatDJl26",
        "outputId": "5a8d4030-3f73-4420-ff3c-d47e1c0b4d20"
      },
      "execution_count": 507,
      "outputs": [
        {
          "output_type": "execute_result",
          "data": {
            "text/plain": [
              "duration    5\n",
              "campaign    2\n",
              "pdays       3\n",
              "previous    0\n",
              "dtype: int64"
            ]
          },
          "metadata": {},
          "execution_count": 507
        }
      ]
    },
    {
      "cell_type": "code",
      "source": [
        "updated_ds = new_ds.dropna(axis=0)\n",
        "updated_ds.isna().sum()"
      ],
      "metadata": {
        "colab": {
          "base_uri": "https://localhost:8080/"
        },
        "id": "yyadxnoVcNvk",
        "outputId": "b1ca2bf8-edc6-4cb9-d376-bd9f6e7ab8f8"
      },
      "execution_count": 508,
      "outputs": [
        {
          "output_type": "execute_result",
          "data": {
            "text/plain": [
              "duration    0\n",
              "campaign    0\n",
              "pdays       0\n",
              "previous    0\n",
              "dtype: int64"
            ]
          },
          "metadata": {},
          "execution_count": 508
        }
      ]
    },
    {
      "cell_type": "code",
      "source": [
        "updated_ds\n",
        "updated_ds.shape"
      ],
      "metadata": {
        "colab": {
          "base_uri": "https://localhost:8080/"
        },
        "id": "LNjT86l-l2f-",
        "outputId": "06c44d03-a165-44e8-b377-ec4429f029d5"
      },
      "execution_count": 509,
      "outputs": [
        {
          "output_type": "execute_result",
          "data": {
            "text/plain": [
              "(2236, 4)"
            ]
          },
          "metadata": {},
          "execution_count": 509
        }
      ]
    },
    {
      "cell_type": "code",
      "source": [
        "a = new_ds.duration\n",
        "b = new_ds.campaign\n",
        "c = new_ds.pdays\n",
        "d = new_ds.previous\n",
        "k = [a,b,c,d]\n",
        "for i in k:\n",
        " K = stats.zscore(i, axis=0, ddof=0, nan_policy='omit').tolist()\n",
        " n=0\n",
        " for p in K:\n",
        "  if p>3 or p<-3:\n",
        "    n+=1\n",
        " print(\"The outliers are as under:\")\n",
        " print(n)"
      ],
      "metadata": {
        "id": "KqJASASGodOl",
        "colab": {
          "base_uri": "https://localhost:8080/"
        },
        "outputId": "ae285ad7-3af2-490c-d593-223ad5a411a8"
      },
      "execution_count": 510,
      "outputs": [
        {
          "output_type": "stream",
          "name": "stdout",
          "text": [
            "The outliers are as under:\n",
            "55\n",
            "The outliers are as under:\n",
            "51\n",
            "The outliers are as under:\n",
            "98\n",
            "The outliers are as under:\n",
            "41\n"
          ]
        }
      ]
    },
    {
      "cell_type": "code",
      "source": [
        "# from scipy import stats\n",
        "\n",
        "# K = stats.zscore(new_ds.duration, axis=0, ddof=0, nan_policy='omit').tolist()\n",
        "# temp=[]\n",
        "# for p in K:\n",
        "#   if p>3 or p<-3:\n",
        "#     temp.append(K.index(p))\n",
        "#     # print(temp)\n",
        "# new_ds.drop(temp, axis=0, inplace=True)\n",
        "# new_ds.shape\n"
      ],
      "metadata": {
        "id": "acLMCi5DnWjd"
      },
      "execution_count": 511,
      "outputs": []
    },
    {
      "cell_type": "code",
      "source": [
        "# K1 = stats.zscore(new_ds.campaign, axis=0, ddof=0, nan_policy='omit').tolist()\n",
        "# temp1=[]\n",
        "# for p in K1:\n",
        "#   if p>3 or p<-3:\n",
        "#     temp1.append(K1.index(p))\n",
        "#     # print(temp)\n",
        "# new_ds.drop(temp1, axis=0, inplace=True)\n",
        "# new_ds.shape"
      ],
      "metadata": {
        "id": "5lwPF2IlnWn1"
      },
      "execution_count": 512,
      "outputs": []
    },
    {
      "cell_type": "code",
      "source": [
        "# K2 = stats.zscore(new_ds.pdays, axis=0, ddof=0, nan_policy='omit').tolist()\n",
        "# temp2=[]\n",
        "# for p in K2:\n",
        "#   if p>3 or p<-3:\n",
        "#     temp2.append(K2.index(p))\n",
        "#     # print(temp)\n",
        "# new_ds.drop(temp2, axis=0, inplace=True)\n",
        "# new_ds.shape"
      ],
      "metadata": {
        "id": "u5jP_NDxnWrt"
      },
      "execution_count": 513,
      "outputs": []
    },
    {
      "cell_type": "code",
      "source": [
        "# K3 = stats.zscore(new_ds.previous, axis=0, ddof=0, nan_policy='omit').tolist()\n",
        "# temp3=[]\n",
        "# for p in K3:\n",
        "#   if p>3 or p<-3:\n",
        "#     temp3.append(K3.index(p))\n",
        "#     # print(temp)\n",
        "# new_ds.drop(temp3, axis=0, inplace=True, errors = 'ignore')\n",
        "# new_ds.shape\n"
      ],
      "metadata": {
        "id": "z2u3GzysnW4f"
      },
      "execution_count": 514,
      "outputs": []
    },
    {
      "cell_type": "code",
      "source": [
        "from scipy import stats\n",
        "a = new_ds.duration\n",
        "b = new_ds.campaign\n",
        "c = new_ds.pdays\n",
        "d = new_ds.previous\n",
        "\n",
        "k = [a,b,c,d]\n",
        "\n",
        "for i in k:\n",
        " K = stats.zscore(i, axis=0, ddof=0, nan_policy='omit').tolist()\n",
        " n=0\n",
        " for p in K:\n",
        "  if p>3 or p<-3:\n",
        "    n+=1\n",
        " print(\"The outliers are as under:\")\n",
        " print(n)\n",
        " temp=[]\n",
        " for p in K:\n",
        "  if p>3 or p<-3:\n",
        "    temp.append(K.index(p))\n",
        "    # print(temp)\n",
        " new_ds.drop(temp, axis=0, inplace=True, errors='ignore')\n",
        "new_ds.shape\n"
      ],
      "metadata": {
        "colab": {
          "base_uri": "https://localhost:8080/"
        },
        "id": "ziZ2ECagfj-g",
        "outputId": "8e883626-d96f-4119-bb89-3d6918213e33"
      },
      "execution_count": 515,
      "outputs": [
        {
          "output_type": "stream",
          "name": "stdout",
          "text": [
            "The outliers are as under:\n",
            "55\n",
            "The outliers are as under:\n",
            "51\n",
            "The outliers are as under:\n",
            "98\n",
            "The outliers are as under:\n",
            "41\n"
          ]
        },
        {
          "output_type": "stream",
          "name": "stderr",
          "text": [
            "<ipython-input-515-0f855818791c>:22: SettingWithCopyWarning: \n",
            "A value is trying to be set on a copy of a slice from a DataFrame\n",
            "\n",
            "See the caveats in the documentation: https://pandas.pydata.org/pandas-docs/stable/user_guide/indexing.html#returning-a-view-versus-a-copy\n",
            "  new_ds.drop(temp, axis=0, inplace=True, errors='ignore')\n",
            "<ipython-input-515-0f855818791c>:22: SettingWithCopyWarning: \n",
            "A value is trying to be set on a copy of a slice from a DataFrame\n",
            "\n",
            "See the caveats in the documentation: https://pandas.pydata.org/pandas-docs/stable/user_guide/indexing.html#returning-a-view-versus-a-copy\n",
            "  new_ds.drop(temp, axis=0, inplace=True, errors='ignore')\n",
            "<ipython-input-515-0f855818791c>:22: SettingWithCopyWarning: \n",
            "A value is trying to be set on a copy of a slice from a DataFrame\n",
            "\n",
            "See the caveats in the documentation: https://pandas.pydata.org/pandas-docs/stable/user_guide/indexing.html#returning-a-view-versus-a-copy\n",
            "  new_ds.drop(temp, axis=0, inplace=True, errors='ignore')\n",
            "<ipython-input-515-0f855818791c>:22: SettingWithCopyWarning: \n",
            "A value is trying to be set on a copy of a slice from a DataFrame\n",
            "\n",
            "See the caveats in the documentation: https://pandas.pydata.org/pandas-docs/stable/user_guide/indexing.html#returning-a-view-versus-a-copy\n",
            "  new_ds.drop(temp, axis=0, inplace=True, errors='ignore')\n"
          ]
        },
        {
          "output_type": "execute_result",
          "data": {
            "text/plain": [
              "(2122, 4)"
            ]
          },
          "metadata": {},
          "execution_count": 515
        }
      ]
    },
    {
      "cell_type": "code",
      "source": [
        "print(type(new_ds.shape))\n",
        "print(\"\\n The total number of index upon removing the outliers using z-0index is = {}\\n\\n\".format(new_ds.shape[0]))\n",
        "new_ds.describe()\n"
      ],
      "metadata": {
        "id": "2tYpOPVZc5sa",
        "colab": {
          "base_uri": "https://localhost:8080/",
          "height": 390
        },
        "outputId": "9c246b47-2c90-451e-9875-5d6f6221dd69"
      },
      "execution_count": 516,
      "outputs": [
        {
          "output_type": "stream",
          "name": "stdout",
          "text": [
            "<class 'tuple'>\n",
            "\n",
            " The total number of index upon removing the outliers using z-0index is = 2122\n",
            "\n",
            "\n"
          ]
        },
        {
          "output_type": "execute_result",
          "data": {
            "text/plain": [
              "          duration     campaign        pdays     previous\n",
              "count  2117.000000  2120.000000  2119.000000  2122.000000\n",
              "mean     -0.099863    -0.027286    -0.080268    -0.063413\n",
              "std       0.739754     0.867493     0.848757     0.689973\n",
              "min      -1.391091    -0.591522    -0.417824    -0.289657\n",
              "25%      -0.591885    -0.591522    -0.417824    -0.289657\n",
              "50%      -0.331678    -0.255987    -0.417824    -0.289657\n",
              "75%       0.144128     0.079547    -0.417824    -0.289657\n",
              "max       4.883604     6.454705     3.315035     9.018178"
            ],
            "text/html": [
              "\n",
              "  <div id=\"df-339bd8b9-2b38-4caa-8813-5ae4a076bbc7\">\n",
              "    <div class=\"colab-df-container\">\n",
              "      <div>\n",
              "<style scoped>\n",
              "    .dataframe tbody tr th:only-of-type {\n",
              "        vertical-align: middle;\n",
              "    }\n",
              "\n",
              "    .dataframe tbody tr th {\n",
              "        vertical-align: top;\n",
              "    }\n",
              "\n",
              "    .dataframe thead th {\n",
              "        text-align: right;\n",
              "    }\n",
              "</style>\n",
              "<table border=\"1\" class=\"dataframe\">\n",
              "  <thead>\n",
              "    <tr style=\"text-align: right;\">\n",
              "      <th></th>\n",
              "      <th>duration</th>\n",
              "      <th>campaign</th>\n",
              "      <th>pdays</th>\n",
              "      <th>previous</th>\n",
              "    </tr>\n",
              "  </thead>\n",
              "  <tbody>\n",
              "    <tr>\n",
              "      <th>count</th>\n",
              "      <td>2117.000000</td>\n",
              "      <td>2120.000000</td>\n",
              "      <td>2119.000000</td>\n",
              "      <td>2122.000000</td>\n",
              "    </tr>\n",
              "    <tr>\n",
              "      <th>mean</th>\n",
              "      <td>-0.099863</td>\n",
              "      <td>-0.027286</td>\n",
              "      <td>-0.080268</td>\n",
              "      <td>-0.063413</td>\n",
              "    </tr>\n",
              "    <tr>\n",
              "      <th>std</th>\n",
              "      <td>0.739754</td>\n",
              "      <td>0.867493</td>\n",
              "      <td>0.848757</td>\n",
              "      <td>0.689973</td>\n",
              "    </tr>\n",
              "    <tr>\n",
              "      <th>min</th>\n",
              "      <td>-1.391091</td>\n",
              "      <td>-0.591522</td>\n",
              "      <td>-0.417824</td>\n",
              "      <td>-0.289657</td>\n",
              "    </tr>\n",
              "    <tr>\n",
              "      <th>25%</th>\n",
              "      <td>-0.591885</td>\n",
              "      <td>-0.591522</td>\n",
              "      <td>-0.417824</td>\n",
              "      <td>-0.289657</td>\n",
              "    </tr>\n",
              "    <tr>\n",
              "      <th>50%</th>\n",
              "      <td>-0.331678</td>\n",
              "      <td>-0.255987</td>\n",
              "      <td>-0.417824</td>\n",
              "      <td>-0.289657</td>\n",
              "    </tr>\n",
              "    <tr>\n",
              "      <th>75%</th>\n",
              "      <td>0.144128</td>\n",
              "      <td>0.079547</td>\n",
              "      <td>-0.417824</td>\n",
              "      <td>-0.289657</td>\n",
              "    </tr>\n",
              "    <tr>\n",
              "      <th>max</th>\n",
              "      <td>4.883604</td>\n",
              "      <td>6.454705</td>\n",
              "      <td>3.315035</td>\n",
              "      <td>9.018178</td>\n",
              "    </tr>\n",
              "  </tbody>\n",
              "</table>\n",
              "</div>\n",
              "      <button class=\"colab-df-convert\" onclick=\"convertToInteractive('df-339bd8b9-2b38-4caa-8813-5ae4a076bbc7')\"\n",
              "              title=\"Convert this dataframe to an interactive table.\"\n",
              "              style=\"display:none;\">\n",
              "        \n",
              "  <svg xmlns=\"http://www.w3.org/2000/svg\" height=\"24px\"viewBox=\"0 0 24 24\"\n",
              "       width=\"24px\">\n",
              "    <path d=\"M0 0h24v24H0V0z\" fill=\"none\"/>\n",
              "    <path d=\"M18.56 5.44l.94 2.06.94-2.06 2.06-.94-2.06-.94-.94-2.06-.94 2.06-2.06.94zm-11 1L8.5 8.5l.94-2.06 2.06-.94-2.06-.94L8.5 2.5l-.94 2.06-2.06.94zm10 10l.94 2.06.94-2.06 2.06-.94-2.06-.94-.94-2.06-.94 2.06-2.06.94z\"/><path d=\"M17.41 7.96l-1.37-1.37c-.4-.4-.92-.59-1.43-.59-.52 0-1.04.2-1.43.59L10.3 9.45l-7.72 7.72c-.78.78-.78 2.05 0 2.83L4 21.41c.39.39.9.59 1.41.59.51 0 1.02-.2 1.41-.59l7.78-7.78 2.81-2.81c.8-.78.8-2.07 0-2.86zM5.41 20L4 18.59l7.72-7.72 1.47 1.35L5.41 20z\"/>\n",
              "  </svg>\n",
              "      </button>\n",
              "      \n",
              "  <style>\n",
              "    .colab-df-container {\n",
              "      display:flex;\n",
              "      flex-wrap:wrap;\n",
              "      gap: 12px;\n",
              "    }\n",
              "\n",
              "    .colab-df-convert {\n",
              "      background-color: #E8F0FE;\n",
              "      border: none;\n",
              "      border-radius: 50%;\n",
              "      cursor: pointer;\n",
              "      display: none;\n",
              "      fill: #1967D2;\n",
              "      height: 32px;\n",
              "      padding: 0 0 0 0;\n",
              "      width: 32px;\n",
              "    }\n",
              "\n",
              "    .colab-df-convert:hover {\n",
              "      background-color: #E2EBFA;\n",
              "      box-shadow: 0px 1px 2px rgba(60, 64, 67, 0.3), 0px 1px 3px 1px rgba(60, 64, 67, 0.15);\n",
              "      fill: #174EA6;\n",
              "    }\n",
              "\n",
              "    [theme=dark] .colab-df-convert {\n",
              "      background-color: #3B4455;\n",
              "      fill: #D2E3FC;\n",
              "    }\n",
              "\n",
              "    [theme=dark] .colab-df-convert:hover {\n",
              "      background-color: #434B5C;\n",
              "      box-shadow: 0px 1px 3px 1px rgba(0, 0, 0, 0.15);\n",
              "      filter: drop-shadow(0px 1px 2px rgba(0, 0, 0, 0.3));\n",
              "      fill: #FFFFFF;\n",
              "    }\n",
              "  </style>\n",
              "\n",
              "      <script>\n",
              "        const buttonEl =\n",
              "          document.querySelector('#df-339bd8b9-2b38-4caa-8813-5ae4a076bbc7 button.colab-df-convert');\n",
              "        buttonEl.style.display =\n",
              "          google.colab.kernel.accessAllowed ? 'block' : 'none';\n",
              "\n",
              "        async function convertToInteractive(key) {\n",
              "          const element = document.querySelector('#df-339bd8b9-2b38-4caa-8813-5ae4a076bbc7');\n",
              "          const dataTable =\n",
              "            await google.colab.kernel.invokeFunction('convertToInteractive',\n",
              "                                                     [key], {});\n",
              "          if (!dataTable) return;\n",
              "\n",
              "          const docLinkHtml = 'Like what you see? Visit the ' +\n",
              "            '<a target=\"_blank\" href=https://colab.research.google.com/notebooks/data_table.ipynb>data table notebook</a>'\n",
              "            + ' to learn more about interactive tables.';\n",
              "          element.innerHTML = '';\n",
              "          dataTable['output_type'] = 'display_data';\n",
              "          await google.colab.output.renderOutput(dataTable, element);\n",
              "          const docLink = document.createElement('div');\n",
              "          docLink.innerHTML = docLinkHtml;\n",
              "          element.appendChild(docLink);\n",
              "        }\n",
              "      </script>\n",
              "    </div>\n",
              "  </div>\n",
              "  "
            ]
          },
          "metadata": {},
          "execution_count": 516
        }
      ]
    },
    {
      "cell_type": "code",
      "source": [
        "\n",
        "updated_dataset = new_ds.dropna(axis=0)\n",
        "updated_dataset.isna().sum()\n",
        "updated_dataset.describe()"
      ],
      "metadata": {
        "colab": {
          "base_uri": "https://localhost:8080/",
          "height": 300
        },
        "id": "tSFs25vJNskW",
        "outputId": "a6f0043b-7b31-401b-e387-e40a02631457"
      },
      "execution_count": 517,
      "outputs": [
        {
          "output_type": "execute_result",
          "data": {
            "text/plain": [
              "          duration     campaign        pdays     previous\n",
              "count  2112.000000  2112.000000  2112.000000  2112.000000\n",
              "mean     -0.099971    -0.027690    -0.079150    -0.062806\n",
              "std       0.739625     0.868497     0.849941     0.691253\n",
              "min      -1.391091    -0.591522    -0.417824    -0.289657\n",
              "25%      -0.591885    -0.591522    -0.417824    -0.289657\n",
              "50%      -0.331678    -0.255987    -0.417824    -0.289657\n",
              "75%       0.144128     0.079547    -0.417824    -0.289657\n",
              "max       4.883604     6.454705     3.315035     9.018178"
            ],
            "text/html": [
              "\n",
              "  <div id=\"df-d3b8391b-13ac-4547-bdd8-85ff9eb59323\">\n",
              "    <div class=\"colab-df-container\">\n",
              "      <div>\n",
              "<style scoped>\n",
              "    .dataframe tbody tr th:only-of-type {\n",
              "        vertical-align: middle;\n",
              "    }\n",
              "\n",
              "    .dataframe tbody tr th {\n",
              "        vertical-align: top;\n",
              "    }\n",
              "\n",
              "    .dataframe thead th {\n",
              "        text-align: right;\n",
              "    }\n",
              "</style>\n",
              "<table border=\"1\" class=\"dataframe\">\n",
              "  <thead>\n",
              "    <tr style=\"text-align: right;\">\n",
              "      <th></th>\n",
              "      <th>duration</th>\n",
              "      <th>campaign</th>\n",
              "      <th>pdays</th>\n",
              "      <th>previous</th>\n",
              "    </tr>\n",
              "  </thead>\n",
              "  <tbody>\n",
              "    <tr>\n",
              "      <th>count</th>\n",
              "      <td>2112.000000</td>\n",
              "      <td>2112.000000</td>\n",
              "      <td>2112.000000</td>\n",
              "      <td>2112.000000</td>\n",
              "    </tr>\n",
              "    <tr>\n",
              "      <th>mean</th>\n",
              "      <td>-0.099971</td>\n",
              "      <td>-0.027690</td>\n",
              "      <td>-0.079150</td>\n",
              "      <td>-0.062806</td>\n",
              "    </tr>\n",
              "    <tr>\n",
              "      <th>std</th>\n",
              "      <td>0.739625</td>\n",
              "      <td>0.868497</td>\n",
              "      <td>0.849941</td>\n",
              "      <td>0.691253</td>\n",
              "    </tr>\n",
              "    <tr>\n",
              "      <th>min</th>\n",
              "      <td>-1.391091</td>\n",
              "      <td>-0.591522</td>\n",
              "      <td>-0.417824</td>\n",
              "      <td>-0.289657</td>\n",
              "    </tr>\n",
              "    <tr>\n",
              "      <th>25%</th>\n",
              "      <td>-0.591885</td>\n",
              "      <td>-0.591522</td>\n",
              "      <td>-0.417824</td>\n",
              "      <td>-0.289657</td>\n",
              "    </tr>\n",
              "    <tr>\n",
              "      <th>50%</th>\n",
              "      <td>-0.331678</td>\n",
              "      <td>-0.255987</td>\n",
              "      <td>-0.417824</td>\n",
              "      <td>-0.289657</td>\n",
              "    </tr>\n",
              "    <tr>\n",
              "      <th>75%</th>\n",
              "      <td>0.144128</td>\n",
              "      <td>0.079547</td>\n",
              "      <td>-0.417824</td>\n",
              "      <td>-0.289657</td>\n",
              "    </tr>\n",
              "    <tr>\n",
              "      <th>max</th>\n",
              "      <td>4.883604</td>\n",
              "      <td>6.454705</td>\n",
              "      <td>3.315035</td>\n",
              "      <td>9.018178</td>\n",
              "    </tr>\n",
              "  </tbody>\n",
              "</table>\n",
              "</div>\n",
              "      <button class=\"colab-df-convert\" onclick=\"convertToInteractive('df-d3b8391b-13ac-4547-bdd8-85ff9eb59323')\"\n",
              "              title=\"Convert this dataframe to an interactive table.\"\n",
              "              style=\"display:none;\">\n",
              "        \n",
              "  <svg xmlns=\"http://www.w3.org/2000/svg\" height=\"24px\"viewBox=\"0 0 24 24\"\n",
              "       width=\"24px\">\n",
              "    <path d=\"M0 0h24v24H0V0z\" fill=\"none\"/>\n",
              "    <path d=\"M18.56 5.44l.94 2.06.94-2.06 2.06-.94-2.06-.94-.94-2.06-.94 2.06-2.06.94zm-11 1L8.5 8.5l.94-2.06 2.06-.94-2.06-.94L8.5 2.5l-.94 2.06-2.06.94zm10 10l.94 2.06.94-2.06 2.06-.94-2.06-.94-.94-2.06-.94 2.06-2.06.94z\"/><path d=\"M17.41 7.96l-1.37-1.37c-.4-.4-.92-.59-1.43-.59-.52 0-1.04.2-1.43.59L10.3 9.45l-7.72 7.72c-.78.78-.78 2.05 0 2.83L4 21.41c.39.39.9.59 1.41.59.51 0 1.02-.2 1.41-.59l7.78-7.78 2.81-2.81c.8-.78.8-2.07 0-2.86zM5.41 20L4 18.59l7.72-7.72 1.47 1.35L5.41 20z\"/>\n",
              "  </svg>\n",
              "      </button>\n",
              "      \n",
              "  <style>\n",
              "    .colab-df-container {\n",
              "      display:flex;\n",
              "      flex-wrap:wrap;\n",
              "      gap: 12px;\n",
              "    }\n",
              "\n",
              "    .colab-df-convert {\n",
              "      background-color: #E8F0FE;\n",
              "      border: none;\n",
              "      border-radius: 50%;\n",
              "      cursor: pointer;\n",
              "      display: none;\n",
              "      fill: #1967D2;\n",
              "      height: 32px;\n",
              "      padding: 0 0 0 0;\n",
              "      width: 32px;\n",
              "    }\n",
              "\n",
              "    .colab-df-convert:hover {\n",
              "      background-color: #E2EBFA;\n",
              "      box-shadow: 0px 1px 2px rgba(60, 64, 67, 0.3), 0px 1px 3px 1px rgba(60, 64, 67, 0.15);\n",
              "      fill: #174EA6;\n",
              "    }\n",
              "\n",
              "    [theme=dark] .colab-df-convert {\n",
              "      background-color: #3B4455;\n",
              "      fill: #D2E3FC;\n",
              "    }\n",
              "\n",
              "    [theme=dark] .colab-df-convert:hover {\n",
              "      background-color: #434B5C;\n",
              "      box-shadow: 0px 1px 3px 1px rgba(0, 0, 0, 0.15);\n",
              "      filter: drop-shadow(0px 1px 2px rgba(0, 0, 0, 0.3));\n",
              "      fill: #FFFFFF;\n",
              "    }\n",
              "  </style>\n",
              "\n",
              "      <script>\n",
              "        const buttonEl =\n",
              "          document.querySelector('#df-d3b8391b-13ac-4547-bdd8-85ff9eb59323 button.colab-df-convert');\n",
              "        buttonEl.style.display =\n",
              "          google.colab.kernel.accessAllowed ? 'block' : 'none';\n",
              "\n",
              "        async function convertToInteractive(key) {\n",
              "          const element = document.querySelector('#df-d3b8391b-13ac-4547-bdd8-85ff9eb59323');\n",
              "          const dataTable =\n",
              "            await google.colab.kernel.invokeFunction('convertToInteractive',\n",
              "                                                     [key], {});\n",
              "          if (!dataTable) return;\n",
              "\n",
              "          const docLinkHtml = 'Like what you see? Visit the ' +\n",
              "            '<a target=\"_blank\" href=https://colab.research.google.com/notebooks/data_table.ipynb>data table notebook</a>'\n",
              "            + ' to learn more about interactive tables.';\n",
              "          element.innerHTML = '';\n",
              "          dataTable['output_type'] = 'display_data';\n",
              "          await google.colab.output.renderOutput(dataTable, element);\n",
              "          const docLink = document.createElement('div');\n",
              "          docLink.innerHTML = docLinkHtml;\n",
              "          element.appendChild(docLink);\n",
              "        }\n",
              "      </script>\n",
              "    </div>\n",
              "  </div>\n",
              "  "
            ]
          },
          "metadata": {},
          "execution_count": 517
        }
      ]
    },
    {
      "cell_type": "markdown",
      "source": [
        "[LP 2] \n",
        "1. Perform Principal Component Analysis (PCA) on the filtered dataset and extract the top three principal components. Perform the necessary preprocessing steps for the same.\n",
        "2. Plot the top two principal components in a graph using appropriate labels on the x and y axes.\n"
      ],
      "metadata": {
        "id": "k-LXSIMuaIqI"
      }
    },
    {
      "cell_type": "code",
      "source": [
        "# Your code for LP2 goes here\n",
        "# Feel free to add cells below this for LP2"
      ],
      "metadata": {
        "id": "7mTSEo9-WrIg"
      },
      "execution_count": 518,
      "outputs": []
    },
    {
      "cell_type": "code",
      "source": [
        "from sklearn.decomposition import PCA\n",
        "\n",
        "pca_1 = PCA(n_components=3)\n",
        "\n",
        "x = updated_dataset\n",
        "\n",
        "principalComponents = pca_1.fit_transform(x)\n",
        "principalComponents.shape\n",
        "\n",
        "\n",
        "# principalDf = pd.DataFrame(data = principalComponents, columns = ['principal component 1', 'principal component 2', 'principal component 3'])\n",
        "\n"
      ],
      "metadata": {
        "colab": {
          "base_uri": "https://localhost:8080/"
        },
        "id": "jSDnxbQFNrEm",
        "outputId": "64facba9-6d33-4644-936a-aba42dc0f23c"
      },
      "execution_count": 519,
      "outputs": [
        {
          "output_type": "execute_result",
          "data": {
            "text/plain": [
              "(2112, 3)"
            ]
          },
          "metadata": {},
          "execution_count": 519
        }
      ]
    },
    {
      "cell_type": "code",
      "source": [
        "pca_1.explained_variance_ratio_"
      ],
      "metadata": {
        "colab": {
          "base_uri": "https://localhost:8080/"
        },
        "id": "0WzO2G3LPHqW",
        "outputId": "4cb356c1-9683-47e0-be2e-921bb1e69f6d"
      },
      "execution_count": 520,
      "outputs": [
        {
          "output_type": "execute_result",
          "data": {
            "text/plain": [
              "array([0.41012618, 0.29530697, 0.214356  ])"
            ]
          },
          "metadata": {},
          "execution_count": 520
        }
      ]
    },
    {
      "cell_type": "code",
      "source": [
        "new_dataset.keys()"
      ],
      "metadata": {
        "colab": {
          "base_uri": "https://localhost:8080/"
        },
        "id": "xB0DtcFo0WRM",
        "outputId": "236fd394-2eec-4531-bbc0-eaceee626b16"
      },
      "execution_count": 521,
      "outputs": [
        {
          "output_type": "execute_result",
          "data": {
            "text/plain": [
              "Index(['job', 'marital', 'education', 'default', 'housing', 'loan', 'contact',\n",
              "       'month', 'poutcome', 'y', 'age', 'balance', 'day', 'duration',\n",
              "       'campaign', 'pdays', 'previous'],\n",
              "      dtype='object')"
            ]
          },
          "metadata": {},
          "execution_count": 521
        }
      ]
    },
    {
      "cell_type": "code",
      "source": [
        "from scipy import stats\n",
        "a = new_dataset.duration\n",
        "b = new_dataset.campaign\n",
        "c = new_dataset.pdays\n",
        "d = new_dataset.previous\n",
        "e = new_dataset.job\n",
        "f = new_dataset.marital\n",
        "g = new_dataset.education\n",
        "h = new_dataset.default\n",
        "i = new_dataset.housing\n",
        "j = new_dataset.loan\n",
        "m = new_dataset.contact\n",
        "n = new_dataset.month\n",
        "o = new_dataset.poutcome\n",
        "\n",
        "\n",
        "k = [a,b,c,d]\n",
        "\n",
        "for i in k:\n",
        " K = stats.zscore(i, axis=0, ddof=0, nan_policy='omit').tolist()\n",
        " n=0\n",
        " for p in K:\n",
        "  if p>3 or p<-3:\n",
        "    n+=1\n",
        " print(\"The outliers are as under:\")\n",
        " print(n)\n",
        " temp=[]\n",
        " for p in K:\n",
        "  if p>3 or p<-3:\n",
        "    temp.append(K.index(p))\n",
        "    # print(temp)\n",
        " new_dataset.drop(temp, axis=0, inplace=True, errors='ignore')\n",
        "new_dataset.shape\n"
      ],
      "metadata": {
        "colab": {
          "base_uri": "https://localhost:8080/"
        },
        "id": "JSLjujjW3YUu",
        "outputId": "71cafeda-09cb-4494-fcb3-ef873b21da08"
      },
      "execution_count": 522,
      "outputs": [
        {
          "output_type": "stream",
          "name": "stdout",
          "text": [
            "The outliers are as under:\n",
            "55\n",
            "The outliers are as under:\n",
            "51\n",
            "The outliers are as under:\n",
            "98\n",
            "The outliers are as under:\n",
            "41\n"
          ]
        },
        {
          "output_type": "execute_result",
          "data": {
            "text/plain": [
              "(2122, 17)"
            ]
          },
          "metadata": {},
          "execution_count": 522
        }
      ]
    },
    {
      "cell_type": "code",
      "source": [
        "new_dataset_1 = new_dataset.dropna(axis=0)         # Removing Null values\n",
        "new_dataset_1.isna().sum()        \n",
        "new_dataset_1.shape"
      ],
      "metadata": {
        "colab": {
          "base_uri": "https://localhost:8080/"
        },
        "id": "LnE6YLnT0v5L",
        "outputId": "836447e9-5d1f-4bf9-879f-5a9f632a3f07"
      },
      "execution_count": 523,
      "outputs": [
        {
          "output_type": "execute_result",
          "data": {
            "text/plain": [
              "(2110, 17)"
            ]
          },
          "metadata": {},
          "execution_count": 523
        }
      ]
    },
    {
      "cell_type": "code",
      "source": [
        "from sklearn.preprocessing import StandardScaler\n",
        "\n",
        "scaler = StandardScaler()\n",
        "X_scaled = scaler.fit_transform(new_dataset_1)\n",
        "X_scaled\n"
      ],
      "metadata": {
        "colab": {
          "base_uri": "https://localhost:8080/"
        },
        "id": "nBd1bdwL4wUk",
        "outputId": "f08851dd-75d2-47fb-eebe-f836b20ee03b"
      },
      "execution_count": 524,
      "outputs": [
        {
          "output_type": "execute_result",
          "data": {
            "text/plain": [
              "array([[-0.10501119, -0.27695169,  0.99516659, ...,  2.47374337,\n",
              "        -0.39878147, -0.32842329],\n",
              "       [ 1.10247442,  1.37848193, -0.32463322, ..., -0.6536374 ,\n",
              "         1.77906234,  1.79726119],\n",
              "       [-0.40688259, -1.93238531, -0.32463322, ...,  0.91005298,\n",
              "        -0.39878147, -0.32842329],\n",
              "       ...,\n",
              "       [-0.10501119,  1.37848193,  0.99516659, ..., -0.26271481,\n",
              "        -0.39878147, -0.32842329],\n",
              "       [-0.70875399, -0.27695169, -0.32463322, ..., -0.6536374 ,\n",
              "        -0.39878147, -0.32842329],\n",
              "       [-0.10501119, -0.27695169,  0.99516659, ..., -0.6536374 ,\n",
              "         0.69014044,  6.04863015]])"
            ]
          },
          "metadata": {},
          "execution_count": 524
        }
      ]
    },
    {
      "cell_type": "code",
      "source": [
        "new_dataset_1.describe()\n"
      ],
      "metadata": {
        "colab": {
          "base_uri": "https://localhost:8080/",
          "height": 364
        },
        "id": "1NtKsKlYJI2Y",
        "outputId": "fc30e0ab-74ee-45de-d9fe-618cc4682b1c"
      },
      "execution_count": 525,
      "outputs": [
        {
          "output_type": "execute_result",
          "data": {
            "text/plain": [
              "               job      marital    education      default      housing  \\\n",
              "count  2110.000000  2110.000000  2110.000000  2110.000000  2110.000000   \n",
              "mean      0.002201    -0.009752     0.001450     0.009216    -0.005029   \n",
              "std       1.004087     0.998985     1.006541     1.031289     1.000953   \n",
              "min      -1.618382    -1.939718    -1.653348    -0.142987    -1.155301   \n",
              "25%      -1.012315    -0.286357    -0.325229    -0.142987    -1.155301   \n",
              "50%      -0.103215    -0.286357    -0.325229    -0.142987     0.865576   \n",
              "75%       0.805885     1.367004     1.002889    -0.142987     0.865576   \n",
              "max       2.321053     1.367004     2.331007     6.993648     0.865576   \n",
              "\n",
              "              loan      contact        month     poutcome            y  \\\n",
              "count  2110.000000  2110.000000  2110.000000  2110.000000  2110.000000   \n",
              "mean      0.003586     0.016088    -0.005377     0.026995    -0.045150   \n",
              "std       1.003414     1.005914     0.998740     0.949116     0.943036   \n",
              "min      -0.449124    -0.723844    -1.847011    -2.587251    -0.360248   \n",
              "25%      -0.449124    -0.723844    -0.855048     0.318232    -0.360248   \n",
              "50%      -0.449124    -0.723844     0.136914     0.318232    -0.360248   \n",
              "75%      -0.449124     1.500168     0.798222     0.318232    -0.360248   \n",
              "max       2.226558     1.500168     2.120838     1.770973     2.775865   \n",
              "\n",
              "               age      balance          day     duration     campaign  \\\n",
              "count  2110.000000  2110.000000  2110.000000  2110.000000  2110.000000   \n",
              "mean      0.007809    -0.011547     0.006122    -0.099464    -0.030495   \n",
              "std       0.999809     0.982672     1.003713     0.739746     0.858518   \n",
              "min      -2.073954    -0.971505    -1.718057    -1.391091    -0.591522   \n",
              "25%      -0.759194    -0.395329    -0.898050    -0.591885    -0.591522   \n",
              "50%      -0.195725    -0.292155     0.039100    -0.329820    -0.255987   \n",
              "75%       0.743389     0.003052     0.741963     0.144128     0.079547   \n",
              "max       3.748555    17.763335     1.796257     4.883604     6.454705   \n",
              "\n",
              "             pdays     previous  \n",
              "count  2110.000000  2110.000000  \n",
              "mean     -0.078829    -0.062591  \n",
              "std       0.850279     0.691545  \n",
              "min      -0.417824    -0.289657  \n",
              "25%      -0.417824    -0.289657  \n",
              "50%      -0.417824    -0.289657  \n",
              "75%      -0.417824    -0.289657  \n",
              "max       3.315035     9.018178  "
            ],
            "text/html": [
              "\n",
              "  <div id=\"df-6a2eeeca-a38e-41d8-8f1d-79d32a91af91\">\n",
              "    <div class=\"colab-df-container\">\n",
              "      <div>\n",
              "<style scoped>\n",
              "    .dataframe tbody tr th:only-of-type {\n",
              "        vertical-align: middle;\n",
              "    }\n",
              "\n",
              "    .dataframe tbody tr th {\n",
              "        vertical-align: top;\n",
              "    }\n",
              "\n",
              "    .dataframe thead th {\n",
              "        text-align: right;\n",
              "    }\n",
              "</style>\n",
              "<table border=\"1\" class=\"dataframe\">\n",
              "  <thead>\n",
              "    <tr style=\"text-align: right;\">\n",
              "      <th></th>\n",
              "      <th>job</th>\n",
              "      <th>marital</th>\n",
              "      <th>education</th>\n",
              "      <th>default</th>\n",
              "      <th>housing</th>\n",
              "      <th>loan</th>\n",
              "      <th>contact</th>\n",
              "      <th>month</th>\n",
              "      <th>poutcome</th>\n",
              "      <th>y</th>\n",
              "      <th>age</th>\n",
              "      <th>balance</th>\n",
              "      <th>day</th>\n",
              "      <th>duration</th>\n",
              "      <th>campaign</th>\n",
              "      <th>pdays</th>\n",
              "      <th>previous</th>\n",
              "    </tr>\n",
              "  </thead>\n",
              "  <tbody>\n",
              "    <tr>\n",
              "      <th>count</th>\n",
              "      <td>2110.000000</td>\n",
              "      <td>2110.000000</td>\n",
              "      <td>2110.000000</td>\n",
              "      <td>2110.000000</td>\n",
              "      <td>2110.000000</td>\n",
              "      <td>2110.000000</td>\n",
              "      <td>2110.000000</td>\n",
              "      <td>2110.000000</td>\n",
              "      <td>2110.000000</td>\n",
              "      <td>2110.000000</td>\n",
              "      <td>2110.000000</td>\n",
              "      <td>2110.000000</td>\n",
              "      <td>2110.000000</td>\n",
              "      <td>2110.000000</td>\n",
              "      <td>2110.000000</td>\n",
              "      <td>2110.000000</td>\n",
              "      <td>2110.000000</td>\n",
              "    </tr>\n",
              "    <tr>\n",
              "      <th>mean</th>\n",
              "      <td>0.002201</td>\n",
              "      <td>-0.009752</td>\n",
              "      <td>0.001450</td>\n",
              "      <td>0.009216</td>\n",
              "      <td>-0.005029</td>\n",
              "      <td>0.003586</td>\n",
              "      <td>0.016088</td>\n",
              "      <td>-0.005377</td>\n",
              "      <td>0.026995</td>\n",
              "      <td>-0.045150</td>\n",
              "      <td>0.007809</td>\n",
              "      <td>-0.011547</td>\n",
              "      <td>0.006122</td>\n",
              "      <td>-0.099464</td>\n",
              "      <td>-0.030495</td>\n",
              "      <td>-0.078829</td>\n",
              "      <td>-0.062591</td>\n",
              "    </tr>\n",
              "    <tr>\n",
              "      <th>std</th>\n",
              "      <td>1.004087</td>\n",
              "      <td>0.998985</td>\n",
              "      <td>1.006541</td>\n",
              "      <td>1.031289</td>\n",
              "      <td>1.000953</td>\n",
              "      <td>1.003414</td>\n",
              "      <td>1.005914</td>\n",
              "      <td>0.998740</td>\n",
              "      <td>0.949116</td>\n",
              "      <td>0.943036</td>\n",
              "      <td>0.999809</td>\n",
              "      <td>0.982672</td>\n",
              "      <td>1.003713</td>\n",
              "      <td>0.739746</td>\n",
              "      <td>0.858518</td>\n",
              "      <td>0.850279</td>\n",
              "      <td>0.691545</td>\n",
              "    </tr>\n",
              "    <tr>\n",
              "      <th>min</th>\n",
              "      <td>-1.618382</td>\n",
              "      <td>-1.939718</td>\n",
              "      <td>-1.653348</td>\n",
              "      <td>-0.142987</td>\n",
              "      <td>-1.155301</td>\n",
              "      <td>-0.449124</td>\n",
              "      <td>-0.723844</td>\n",
              "      <td>-1.847011</td>\n",
              "      <td>-2.587251</td>\n",
              "      <td>-0.360248</td>\n",
              "      <td>-2.073954</td>\n",
              "      <td>-0.971505</td>\n",
              "      <td>-1.718057</td>\n",
              "      <td>-1.391091</td>\n",
              "      <td>-0.591522</td>\n",
              "      <td>-0.417824</td>\n",
              "      <td>-0.289657</td>\n",
              "    </tr>\n",
              "    <tr>\n",
              "      <th>25%</th>\n",
              "      <td>-1.012315</td>\n",
              "      <td>-0.286357</td>\n",
              "      <td>-0.325229</td>\n",
              "      <td>-0.142987</td>\n",
              "      <td>-1.155301</td>\n",
              "      <td>-0.449124</td>\n",
              "      <td>-0.723844</td>\n",
              "      <td>-0.855048</td>\n",
              "      <td>0.318232</td>\n",
              "      <td>-0.360248</td>\n",
              "      <td>-0.759194</td>\n",
              "      <td>-0.395329</td>\n",
              "      <td>-0.898050</td>\n",
              "      <td>-0.591885</td>\n",
              "      <td>-0.591522</td>\n",
              "      <td>-0.417824</td>\n",
              "      <td>-0.289657</td>\n",
              "    </tr>\n",
              "    <tr>\n",
              "      <th>50%</th>\n",
              "      <td>-0.103215</td>\n",
              "      <td>-0.286357</td>\n",
              "      <td>-0.325229</td>\n",
              "      <td>-0.142987</td>\n",
              "      <td>0.865576</td>\n",
              "      <td>-0.449124</td>\n",
              "      <td>-0.723844</td>\n",
              "      <td>0.136914</td>\n",
              "      <td>0.318232</td>\n",
              "      <td>-0.360248</td>\n",
              "      <td>-0.195725</td>\n",
              "      <td>-0.292155</td>\n",
              "      <td>0.039100</td>\n",
              "      <td>-0.329820</td>\n",
              "      <td>-0.255987</td>\n",
              "      <td>-0.417824</td>\n",
              "      <td>-0.289657</td>\n",
              "    </tr>\n",
              "    <tr>\n",
              "      <th>75%</th>\n",
              "      <td>0.805885</td>\n",
              "      <td>1.367004</td>\n",
              "      <td>1.002889</td>\n",
              "      <td>-0.142987</td>\n",
              "      <td>0.865576</td>\n",
              "      <td>-0.449124</td>\n",
              "      <td>1.500168</td>\n",
              "      <td>0.798222</td>\n",
              "      <td>0.318232</td>\n",
              "      <td>-0.360248</td>\n",
              "      <td>0.743389</td>\n",
              "      <td>0.003052</td>\n",
              "      <td>0.741963</td>\n",
              "      <td>0.144128</td>\n",
              "      <td>0.079547</td>\n",
              "      <td>-0.417824</td>\n",
              "      <td>-0.289657</td>\n",
              "    </tr>\n",
              "    <tr>\n",
              "      <th>max</th>\n",
              "      <td>2.321053</td>\n",
              "      <td>1.367004</td>\n",
              "      <td>2.331007</td>\n",
              "      <td>6.993648</td>\n",
              "      <td>0.865576</td>\n",
              "      <td>2.226558</td>\n",
              "      <td>1.500168</td>\n",
              "      <td>2.120838</td>\n",
              "      <td>1.770973</td>\n",
              "      <td>2.775865</td>\n",
              "      <td>3.748555</td>\n",
              "      <td>17.763335</td>\n",
              "      <td>1.796257</td>\n",
              "      <td>4.883604</td>\n",
              "      <td>6.454705</td>\n",
              "      <td>3.315035</td>\n",
              "      <td>9.018178</td>\n",
              "    </tr>\n",
              "  </tbody>\n",
              "</table>\n",
              "</div>\n",
              "      <button class=\"colab-df-convert\" onclick=\"convertToInteractive('df-6a2eeeca-a38e-41d8-8f1d-79d32a91af91')\"\n",
              "              title=\"Convert this dataframe to an interactive table.\"\n",
              "              style=\"display:none;\">\n",
              "        \n",
              "  <svg xmlns=\"http://www.w3.org/2000/svg\" height=\"24px\"viewBox=\"0 0 24 24\"\n",
              "       width=\"24px\">\n",
              "    <path d=\"M0 0h24v24H0V0z\" fill=\"none\"/>\n",
              "    <path d=\"M18.56 5.44l.94 2.06.94-2.06 2.06-.94-2.06-.94-.94-2.06-.94 2.06-2.06.94zm-11 1L8.5 8.5l.94-2.06 2.06-.94-2.06-.94L8.5 2.5l-.94 2.06-2.06.94zm10 10l.94 2.06.94-2.06 2.06-.94-2.06-.94-.94-2.06-.94 2.06-2.06.94z\"/><path d=\"M17.41 7.96l-1.37-1.37c-.4-.4-.92-.59-1.43-.59-.52 0-1.04.2-1.43.59L10.3 9.45l-7.72 7.72c-.78.78-.78 2.05 0 2.83L4 21.41c.39.39.9.59 1.41.59.51 0 1.02-.2 1.41-.59l7.78-7.78 2.81-2.81c.8-.78.8-2.07 0-2.86zM5.41 20L4 18.59l7.72-7.72 1.47 1.35L5.41 20z\"/>\n",
              "  </svg>\n",
              "      </button>\n",
              "      \n",
              "  <style>\n",
              "    .colab-df-container {\n",
              "      display:flex;\n",
              "      flex-wrap:wrap;\n",
              "      gap: 12px;\n",
              "    }\n",
              "\n",
              "    .colab-df-convert {\n",
              "      background-color: #E8F0FE;\n",
              "      border: none;\n",
              "      border-radius: 50%;\n",
              "      cursor: pointer;\n",
              "      display: none;\n",
              "      fill: #1967D2;\n",
              "      height: 32px;\n",
              "      padding: 0 0 0 0;\n",
              "      width: 32px;\n",
              "    }\n",
              "\n",
              "    .colab-df-convert:hover {\n",
              "      background-color: #E2EBFA;\n",
              "      box-shadow: 0px 1px 2px rgba(60, 64, 67, 0.3), 0px 1px 3px 1px rgba(60, 64, 67, 0.15);\n",
              "      fill: #174EA6;\n",
              "    }\n",
              "\n",
              "    [theme=dark] .colab-df-convert {\n",
              "      background-color: #3B4455;\n",
              "      fill: #D2E3FC;\n",
              "    }\n",
              "\n",
              "    [theme=dark] .colab-df-convert:hover {\n",
              "      background-color: #434B5C;\n",
              "      box-shadow: 0px 1px 3px 1px rgba(0, 0, 0, 0.15);\n",
              "      filter: drop-shadow(0px 1px 2px rgba(0, 0, 0, 0.3));\n",
              "      fill: #FFFFFF;\n",
              "    }\n",
              "  </style>\n",
              "\n",
              "      <script>\n",
              "        const buttonEl =\n",
              "          document.querySelector('#df-6a2eeeca-a38e-41d8-8f1d-79d32a91af91 button.colab-df-convert');\n",
              "        buttonEl.style.display =\n",
              "          google.colab.kernel.accessAllowed ? 'block' : 'none';\n",
              "\n",
              "        async function convertToInteractive(key) {\n",
              "          const element = document.querySelector('#df-6a2eeeca-a38e-41d8-8f1d-79d32a91af91');\n",
              "          const dataTable =\n",
              "            await google.colab.kernel.invokeFunction('convertToInteractive',\n",
              "                                                     [key], {});\n",
              "          if (!dataTable) return;\n",
              "\n",
              "          const docLinkHtml = 'Like what you see? Visit the ' +\n",
              "            '<a target=\"_blank\" href=https://colab.research.google.com/notebooks/data_table.ipynb>data table notebook</a>'\n",
              "            + ' to learn more about interactive tables.';\n",
              "          element.innerHTML = '';\n",
              "          dataTable['output_type'] = 'display_data';\n",
              "          await google.colab.output.renderOutput(dataTable, element);\n",
              "          const docLink = document.createElement('div');\n",
              "          docLink.innerHTML = docLinkHtml;\n",
              "          element.appendChild(docLink);\n",
              "        }\n",
              "      </script>\n",
              "    </div>\n",
              "  </div>\n",
              "  "
            ]
          },
          "metadata": {},
          "execution_count": 525
        }
      ]
    },
    {
      "cell_type": "code",
      "source": [
        "from sklearn.decomposition import PCA\n",
        "\n",
        "pca_2 = PCA(n_components=3)\n",
        "\n",
        "x = new_dataset_1\n",
        "\n",
        "principalComponents = pca_2.fit_transform(x)\n",
        "principalComponents.shape\n",
        "\n",
        "# principalDf = pd.DataFrame(data = principalComponents, columns = ['principal component 1', 'principal component 2', 'principal component 3'])\n",
        "\n"
      ],
      "metadata": {
        "id": "XD1fXz4CM7Cc",
        "colab": {
          "base_uri": "https://localhost:8080/"
        },
        "outputId": "7d00ea6a-acf4-492e-dc03-811d8fbe2764"
      },
      "execution_count": 526,
      "outputs": [
        {
          "output_type": "execute_result",
          "data": {
            "text/plain": [
              "(2110, 3)"
            ]
          },
          "metadata": {},
          "execution_count": 526
        }
      ]
    },
    {
      "cell_type": "code",
      "source": [
        "pca_2.explained_variance_ratio_"
      ],
      "metadata": {
        "colab": {
          "base_uri": "https://localhost:8080/"
        },
        "id": "7SdOXZ1dMxTt",
        "outputId": "8c1455f8-948c-48b8-c21f-66f235b0e263"
      },
      "execution_count": 527,
      "outputs": [
        {
          "output_type": "execute_result",
          "data": {
            "text/plain": [
              "array([0.12247374, 0.10438828, 0.0940202 ])"
            ]
          },
          "metadata": {},
          "execution_count": 527
        }
      ]
    },
    {
      "cell_type": "code",
      "source": [
        "# Ploting top 2 pricipal components in graph.\n",
        "plt.figure(figsize=(7,5))\n",
        "plt.scatter(principalComponents[:,0],principalComponents[:,1], c= principalComponents[:,1],cmap='viridis')\n",
        "plt.xlabel('pc1')\n",
        "plt.ylabel('pc2')"
      ],
      "metadata": {
        "id": "B1vPqCC2n6ZW",
        "colab": {
          "base_uri": "https://localhost:8080/",
          "height": 483
        },
        "outputId": "2306145f-07bd-40dd-ecf1-2e2ebbef31d8"
      },
      "execution_count": 528,
      "outputs": [
        {
          "output_type": "execute_result",
          "data": {
            "text/plain": [
              "Text(0, 0.5, 'pc2')"
            ]
          },
          "metadata": {},
          "execution_count": 528
        },
        {
          "output_type": "display_data",
          "data": {
            "text/plain": [
              "<Figure size 700x500 with 1 Axes>"
            ],
            "image/png": "[encoded data removed]"
          },
          "metadata": {}
        }
      ]
    },
    {
      "cell_type": "markdown",
      "source": [
        "[HP 1]\n",
        "Did we lose information by picking only the top three principal components? How much information from the four columns in the filtered components are captured in the the two top principal components? Explain your answer briefly."
      ],
      "metadata": {
        "id": "Tcgkb1cVb44n"
      }
    },
    {
      "cell_type": "markdown",
      "source": [
        "Here, the filtered dataset of mentioned 4 columns is considered to provide the answers. "
      ],
      "metadata": {
        "id": "wKPQPA2ES31S"
      }
    },
    {
      "cell_type": "code",
      "source": [
        "# Your code for HP1 goes here\n",
        "# Feel free to add cells below this for HP1"
      ],
      "metadata": {
        "id": "2mossVbUbt6z"
      },
      "execution_count": 529,
      "outputs": []
    },
    {
      "cell_type": "code",
      "source": [
        "print(type(pca_1.explained_variance_ratio_))\n",
        "pca_1.explained_variance_ratio_"
      ],
      "metadata": {
        "colab": {
          "base_uri": "https://localhost:8080/"
        },
        "id": "P0ugpAtcNKbB",
        "outputId": "1b749f81-a685-42e4-b1c4-42588dd5ce77"
      },
      "execution_count": 530,
      "outputs": [
        {
          "output_type": "stream",
          "name": "stdout",
          "text": [
            "<class 'numpy.ndarray'>\n"
          ]
        },
        {
          "output_type": "execute_result",
          "data": {
            "text/plain": [
              "array([0.41012618, 0.29530697, 0.214356  ])"
            ]
          },
          "metadata": {},
          "execution_count": 530
        }
      ]
    },
    {
      "cell_type": "code",
      "source": [
        "ans_1 = 100*(pca_1.explained_variance_ratio_[0]+pca_1.explained_variance_ratio_[1])\n",
        "ans = round(ans_1,2)\n",
        "print(\"The total of {}% information from the four columns in the filtered components are captured in the two top principal components\".format(ans))"
      ],
      "metadata": {
        "colab": {
          "base_uri": "https://localhost:8080/"
        },
        "id": "eFagsp-SKgE6",
        "outputId": "f8b3ad9d-b49e-4e95-9d60-13b4c5035c01"
      },
      "execution_count": 531,
      "outputs": [
        {
          "output_type": "stream",
          "name": "stdout",
          "text": [
            "The total of 70.54% information from the four columns in the filtered components are captured in the two top principal components\n"
          ]
        }
      ]
    },
    {
      "cell_type": "markdown",
      "source": [
        "<your answer for HP 1 goes here>"
      ],
      "metadata": {
        "id": "pA7BhZDBFD26"
      }
    },
    {
      "cell_type": "markdown",
      "source": [
        "Answer of HP 1:\n",
        "\n",
        "*   Yes, we do loss some infromation by picking only top three principal components.\n",
        "\n",
        "* By using .explain_variance_ratio_ we get the difference of variance of data contained in columns in the dataset.\n",
        "\n",
        "* The total of 70.54% information from the four columns in the filtered components are captured in the two top principal components. [Here, 70.54% = 41% + 29.5%] As top two components has the 41% and 29.5% of total data."
      ],
      "metadata": {
        "id": "rm3_qY-BRROT"
      }
    },
    {
      "cell_type": "markdown",
      "source": [
        "[LP 3] Perform K-means clustering on the filtered dataset (before PCA) with k = 3 and plot the results using the first two principal components (after PCA). You may look at the class example for reference."
      ],
      "metadata": {
        "id": "Q6vMjvdHWzFg"
      }
    },
    {
      "cell_type": "code",
      "source": [
        "# Your code for LP3 goes here\n",
        "# Feel free to add cells below this for LP3"
      ],
      "metadata": {
        "id": "Gl7LjuEwY1sy"
      },
      "execution_count": 532,
      "outputs": []
    },
    {
      "cell_type": "code",
      "source": [
        "updated_dataset\n"
      ],
      "metadata": {
        "colab": {
          "base_uri": "https://localhost:8080/",
          "height": 424
        },
        "id": "LVoBVVZPe9O_",
        "outputId": "e3066b23-1289-49df-ed03-3585ec97c797"
      },
      "execution_count": 533,
      "outputs": [
        {
          "output_type": "execute_result",
          "data": {
            "text/plain": [
              "      duration  campaign     pdays  previous\n",
              "0    -0.558430  2.092755 -0.417824 -0.289657\n",
              "2     0.445224 -0.591522  1.433513  1.180002\n",
              "3    -0.889264  0.750617 -0.417824 -0.289657\n",
              "4    -0.045451 -0.591522 -0.417824 -0.289657\n",
              "5    -0.246182 -0.255987 -0.417824 -0.289657\n",
              "...        ...       ...       ...       ...\n",
              "2241 -0.625340  0.750617  2.349120  5.099090\n",
              "2242 -0.565864 -0.591522 -0.417824 -0.289657\n",
              "2243 -0.287072 -0.255987 -0.417824 -0.289657\n",
              "2244 -0.740574 -0.591522 -0.417824 -0.289657\n",
              "2245 -0.629057 -0.591522  0.507845  4.119318\n",
              "\n",
              "[2112 rows x 4 columns]"
            ],
            "text/html": [
              "\n",
              "  <div id=\"df-4f34e3fb-8448-4c45-87a4-3c466da142ab\">\n",
              "    <div class=\"colab-df-container\">\n",
              "      <div>\n",
              "<style scoped>\n",
              "    .dataframe tbody tr th:only-of-type {\n",
              "        vertical-align: middle;\n",
              "    }\n",
              "\n",
              "    .dataframe tbody tr th {\n",
              "        vertical-align: top;\n",
              "    }\n",
              "\n",
              "    .dataframe thead th {\n",
              "        text-align: right;\n",
              "    }\n",
              "</style>\n",
              "<table border=\"1\" class=\"dataframe\">\n",
              "  <thead>\n",
              "    <tr style=\"text-align: right;\">\n",
              "      <th></th>\n",
              "      <th>duration</th>\n",
              "      <th>campaign</th>\n",
              "      <th>pdays</th>\n",
              "      <th>previous</th>\n",
              "    </tr>\n",
              "  </thead>\n",
              "  <tbody>\n",
              "    <tr>\n",
              "      <th>0</th>\n",
              "      <td>-0.558430</td>\n",
              "      <td>2.092755</td>\n",
              "      <td>-0.417824</td>\n",
              "      <td>-0.289657</td>\n",
              "    </tr>\n",
              "    <tr>\n",
              "      <th>2</th>\n",
              "      <td>0.445224</td>\n",
              "      <td>-0.591522</td>\n",
              "      <td>1.433513</td>\n",
              "      <td>1.180002</td>\n",
              "    </tr>\n",
              "    <tr>\n",
              "      <th>3</th>\n",
              "      <td>-0.889264</td>\n",
              "      <td>0.750617</td>\n",
              "      <td>-0.417824</td>\n",
              "      <td>-0.289657</td>\n",
              "    </tr>\n",
              "    <tr>\n",
              "      <th>4</th>\n",
              "      <td>-0.045451</td>\n",
              "      <td>-0.591522</td>\n",
              "      <td>-0.417824</td>\n",
              "      <td>-0.289657</td>\n",
              "    </tr>\n",
              "    <tr>\n",
              "      <th>5</th>\n",
              "      <td>-0.246182</td>\n",
              "      <td>-0.255987</td>\n",
              "      <td>-0.417824</td>\n",
              "      <td>-0.289657</td>\n",
              "    </tr>\n",
              "    <tr>\n",
              "      <th>...</th>\n",
              "      <td>...</td>\n",
              "      <td>...</td>\n",
              "      <td>...</td>\n",
              "      <td>...</td>\n",
              "    </tr>\n",
              "    <tr>\n",
              "      <th>2241</th>\n",
              "      <td>-0.625340</td>\n",
              "      <td>0.750617</td>\n",
              "      <td>2.349120</td>\n",
              "      <td>5.099090</td>\n",
              "    </tr>\n",
              "    <tr>\n",
              "      <th>2242</th>\n",
              "      <td>-0.565864</td>\n",
              "      <td>-0.591522</td>\n",
              "      <td>-0.417824</td>\n",
              "      <td>-0.289657</td>\n",
              "    </tr>\n",
              "    <tr>\n",
              "      <th>2243</th>\n",
              "      <td>-0.287072</td>\n",
              "      <td>-0.255987</td>\n",
              "      <td>-0.417824</td>\n",
              "      <td>-0.289657</td>\n",
              "    </tr>\n",
              "    <tr>\n",
              "      <th>2244</th>\n",
              "      <td>-0.740574</td>\n",
              "      <td>-0.591522</td>\n",
              "      <td>-0.417824</td>\n",
              "      <td>-0.289657</td>\n",
              "    </tr>\n",
              "    <tr>\n",
              "      <th>2245</th>\n",
              "      <td>-0.629057</td>\n",
              "      <td>-0.591522</td>\n",
              "      <td>0.507845</td>\n",
              "      <td>4.119318</td>\n",
              "    </tr>\n",
              "  </tbody>\n",
              "</table>\n",
              "<p>2112 rows × 4 columns</p>\n",
              "</div>\n",
              "      <button class=\"colab-df-convert\" onclick=\"convertToInteractive('df-4f34e3fb-8448-4c45-87a4-3c466da142ab')\"\n",
              "              title=\"Convert this dataframe to an interactive table.\"\n",
              "              style=\"display:none;\">\n",
              "        \n",
              "  <svg xmlns=\"http://www.w3.org/2000/svg\" height=\"24px\"viewBox=\"0 0 24 24\"\n",
              "       width=\"24px\">\n",
              "    <path d=\"M0 0h24v24H0V0z\" fill=\"none\"/>\n",
              "    <path d=\"M18.56 5.44l.94 2.06.94-2.06 2.06-.94-2.06-.94-.94-2.06-.94 2.06-2.06.94zm-11 1L8.5 8.5l.94-2.06 2.06-.94-2.06-.94L8.5 2.5l-.94 2.06-2.06.94zm10 10l.94 2.06.94-2.06 2.06-.94-2.06-.94-.94-2.06-.94 2.06-2.06.94z\"/><path d=\"M17.41 7.96l-1.37-1.37c-.4-.4-.92-.59-1.43-.59-.52 0-1.04.2-1.43.59L10.3 9.45l-7.72 7.72c-.78.78-.78 2.05 0 2.83L4 21.41c.39.39.9.59 1.41.59.51 0 1.02-.2 1.41-.59l7.78-7.78 2.81-2.81c.8-.78.8-2.07 0-2.86zM5.41 20L4 18.59l7.72-7.72 1.47 1.35L5.41 20z\"/>\n",
              "  </svg>\n",
              "      </button>\n",
              "      \n",
              "  <style>\n",
              "    .colab-df-container {\n",
              "      display:flex;\n",
              "      flex-wrap:wrap;\n",
              "      gap: 12px;\n",
              "    }\n",
              "\n",
              "    .colab-df-convert {\n",
              "      background-color: #E8F0FE;\n",
              "      border: none;\n",
              "      border-radius: 50%;\n",
              "      cursor: pointer;\n",
              "      display: none;\n",
              "      fill: #1967D2;\n",
              "      height: 32px;\n",
              "      padding: 0 0 0 0;\n",
              "      width: 32px;\n",
              "    }\n",
              "\n",
              "    .colab-df-convert:hover {\n",
              "      background-color: #E2EBFA;\n",
              "      box-shadow: 0px 1px 2px rgba(60, 64, 67, 0.3), 0px 1px 3px 1px rgba(60, 64, 67, 0.15);\n",
              "      fill: #174EA6;\n",
              "    }\n",
              "\n",
              "    [theme=dark] .colab-df-convert {\n",
              "      background-color: #3B4455;\n",
              "      fill: #D2E3FC;\n",
              "    }\n",
              "\n",
              "    [theme=dark] .colab-df-convert:hover {\n",
              "      background-color: #434B5C;\n",
              "      box-shadow: 0px 1px 3px 1px rgba(0, 0, 0, 0.15);\n",
              "      filter: drop-shadow(0px 1px 2px rgba(0, 0, 0, 0.3));\n",
              "      fill: #FFFFFF;\n",
              "    }\n",
              "  </style>\n",
              "\n",
              "      <script>\n",
              "        const buttonEl =\n",
              "          document.querySelector('#df-4f34e3fb-8448-4c45-87a4-3c466da142ab button.colab-df-convert');\n",
              "        buttonEl.style.display =\n",
              "          google.colab.kernel.accessAllowed ? 'block' : 'none';\n",
              "\n",
              "        async function convertToInteractive(key) {\n",
              "          const element = document.querySelector('#df-4f34e3fb-8448-4c45-87a4-3c466da142ab');\n",
              "          const dataTable =\n",
              "            await google.colab.kernel.invokeFunction('convertToInteractive',\n",
              "                                                     [key], {});\n",
              "          if (!dataTable) return;\n",
              "\n",
              "          const docLinkHtml = 'Like what you see? Visit the ' +\n",
              "            '<a target=\"_blank\" href=https://colab.research.google.com/notebooks/data_table.ipynb>data table notebook</a>'\n",
              "            + ' to learn more about interactive tables.';\n",
              "          element.innerHTML = '';\n",
              "          dataTable['output_type'] = 'display_data';\n",
              "          await google.colab.output.renderOutput(dataTable, element);\n",
              "          const docLink = document.createElement('div');\n",
              "          docLink.innerHTML = docLinkHtml;\n",
              "          element.appendChild(docLink);\n",
              "        }\n",
              "      </script>\n",
              "    </div>\n",
              "  </div>\n",
              "  "
            ]
          },
          "metadata": {},
          "execution_count": 533
        }
      ]
    },
    {
      "cell_type": "code",
      "source": [
        "from sklearn.cluster import KMeans\n",
        "\n",
        "km_1 = KMeans(n_clusters=3, init='random', n_init=5, max_iter=50, random_state=0)   # For reproduciability, setting random state to 0.\n",
        "y_km_1 = km_1.fit_predict(updated_dataset)\n",
        "\n",
        "updated_dataset[y_km_1 == 0]\n"
      ],
      "metadata": {
        "id": "KjgRRP9OfL83",
        "colab": {
          "base_uri": "https://localhost:8080/",
          "height": 424
        },
        "outputId": "31c794e8-ff43-491d-a593-e4493bad151d"
      },
      "execution_count": 534,
      "outputs": [
        {
          "output_type": "execute_result",
          "data": {
            "text/plain": [
              "      duration  campaign     pdays  previous\n",
              "2     0.445224 -0.591522  1.433513  1.180002\n",
              "6    -0.759161 -0.591522  1.483821  0.200229\n",
              "8    -0.428326 -0.255987  2.208257  0.200229\n",
              "11   -0.543561  0.415082  1.141726  0.200229\n",
              "33   -0.465499 -0.591522  2.610722  0.200229\n",
              "...        ...       ...       ...       ...\n",
              "2229 -0.606754 -0.591522  1.081357  0.200229\n",
              "2230 -0.647643 -0.591522  2.339058  0.200229\n",
              "2237 -0.316809  0.079547  3.043371  0.200229\n",
              "2241 -0.625340  0.750617  2.349120  5.099090\n",
              "2245 -0.629057 -0.591522  0.507845  4.119318\n",
              "\n",
              "[299 rows x 4 columns]"
            ],
            "text/html": [
              "\n",
              "  <div id=\"df-f6894ce5-e5bb-436b-9674-7c960492ced9\">\n",
              "    <div class=\"colab-df-container\">\n",
              "      <div>\n",
              "<style scoped>\n",
              "    .dataframe tbody tr th:only-of-type {\n",
              "        vertical-align: middle;\n",
              "    }\n",
              "\n",
              "    .dataframe tbody tr th {\n",
              "        vertical-align: top;\n",
              "    }\n",
              "\n",
              "    .dataframe thead th {\n",
              "        text-align: right;\n",
              "    }\n",
              "</style>\n",
              "<table border=\"1\" class=\"dataframe\">\n",
              "  <thead>\n",
              "    <tr style=\"text-align: right;\">\n",
              "      <th></th>\n",
              "      <th>duration</th>\n",
              "      <th>campaign</th>\n",
              "      <th>pdays</th>\n",
              "      <th>previous</th>\n",
              "    </tr>\n",
              "  </thead>\n",
              "  <tbody>\n",
              "    <tr>\n",
              "      <th>2</th>\n",
              "      <td>0.445224</td>\n",
              "      <td>-0.591522</td>\n",
              "      <td>1.433513</td>\n",
              "      <td>1.180002</td>\n",
              "    </tr>\n",
              "    <tr>\n",
              "      <th>6</th>\n",
              "      <td>-0.759161</td>\n",
              "      <td>-0.591522</td>\n",
              "      <td>1.483821</td>\n",
              "      <td>0.200229</td>\n",
              "    </tr>\n",
              "    <tr>\n",
              "      <th>8</th>\n",
              "      <td>-0.428326</td>\n",
              "      <td>-0.255987</td>\n",
              "      <td>2.208257</td>\n",
              "      <td>0.200229</td>\n",
              "    </tr>\n",
              "    <tr>\n",
              "      <th>11</th>\n",
              "      <td>-0.543561</td>\n",
              "      <td>0.415082</td>\n",
              "      <td>1.141726</td>\n",
              "      <td>0.200229</td>\n",
              "    </tr>\n",
              "    <tr>\n",
              "      <th>33</th>\n",
              "      <td>-0.465499</td>\n",
              "      <td>-0.591522</td>\n",
              "      <td>2.610722</td>\n",
              "      <td>0.200229</td>\n",
              "    </tr>\n",
              "    <tr>\n",
              "      <th>...</th>\n",
              "      <td>...</td>\n",
              "      <td>...</td>\n",
              "      <td>...</td>\n",
              "      <td>...</td>\n",
              "    </tr>\n",
              "    <tr>\n",
              "      <th>2229</th>\n",
              "      <td>-0.606754</td>\n",
              "      <td>-0.591522</td>\n",
              "      <td>1.081357</td>\n",
              "      <td>0.200229</td>\n",
              "    </tr>\n",
              "    <tr>\n",
              "      <th>2230</th>\n",
              "      <td>-0.647643</td>\n",
              "      <td>-0.591522</td>\n",
              "      <td>2.339058</td>\n",
              "      <td>0.200229</td>\n",
              "    </tr>\n",
              "    <tr>\n",
              "      <th>2237</th>\n",
              "      <td>-0.316809</td>\n",
              "      <td>0.079547</td>\n",
              "      <td>3.043371</td>\n",
              "      <td>0.200229</td>\n",
              "    </tr>\n",
              "    <tr>\n",
              "      <th>2241</th>\n",
              "      <td>-0.625340</td>\n",
              "      <td>0.750617</td>\n",
              "      <td>2.349120</td>\n",
              "      <td>5.099090</td>\n",
              "    </tr>\n",
              "    <tr>\n",
              "      <th>2245</th>\n",
              "      <td>-0.629057</td>\n",
              "      <td>-0.591522</td>\n",
              "      <td>0.507845</td>\n",
              "      <td>4.119318</td>\n",
              "    </tr>\n",
              "  </tbody>\n",
              "</table>\n",
              "<p>299 rows × 4 columns</p>\n",
              "</div>\n",
              "      <button class=\"colab-df-convert\" onclick=\"convertToInteractive('df-f6894ce5-e5bb-436b-9674-7c960492ced9')\"\n",
              "              title=\"Convert this dataframe to an interactive table.\"\n",
              "              style=\"display:none;\">\n",
              "        \n",
              "  <svg xmlns=\"http://www.w3.org/2000/svg\" height=\"24px\"viewBox=\"0 0 24 24\"\n",
              "       width=\"24px\">\n",
              "    <path d=\"M0 0h24v24H0V0z\" fill=\"none\"/>\n",
              "    <path d=\"M18.56 5.44l.94 2.06.94-2.06 2.06-.94-2.06-.94-.94-2.06-.94 2.06-2.06.94zm-11 1L8.5 8.5l.94-2.06 2.06-.94-2.06-.94L8.5 2.5l-.94 2.06-2.06.94zm10 10l.94 2.06.94-2.06 2.06-.94-2.06-.94-.94-2.06-.94 2.06-2.06.94z\"/><path d=\"M17.41 7.96l-1.37-1.37c-.4-.4-.92-.59-1.43-.59-.52 0-1.04.2-1.43.59L10.3 9.45l-7.72 7.72c-.78.78-.78 2.05 0 2.83L4 21.41c.39.39.9.59 1.41.59.51 0 1.02-.2 1.41-.59l7.78-7.78 2.81-2.81c.8-.78.8-2.07 0-2.86zM5.41 20L4 18.59l7.72-7.72 1.47 1.35L5.41 20z\"/>\n",
              "  </svg>\n",
              "      </button>\n",
              "      \n",
              "  <style>\n",
              "    .colab-df-container {\n",
              "      display:flex;\n",
              "      flex-wrap:wrap;\n",
              "      gap: 12px;\n",
              "    }\n",
              "\n",
              "    .colab-df-convert {\n",
              "      background-color: #E8F0FE;\n",
              "      border: none;\n",
              "      border-radius: 50%;\n",
              "      cursor: pointer;\n",
              "      display: none;\n",
              "      fill: #1967D2;\n",
              "      height: 32px;\n",
              "      padding: 0 0 0 0;\n",
              "      width: 32px;\n",
              "    }\n",
              "\n",
              "    .colab-df-convert:hover {\n",
              "      background-color: #E2EBFA;\n",
              "      box-shadow: 0px 1px 2px rgba(60, 64, 67, 0.3), 0px 1px 3px 1px rgba(60, 64, 67, 0.15);\n",
              "      fill: #174EA6;\n",
              "    }\n",
              "\n",
              "    [theme=dark] .colab-df-convert {\n",
              "      background-color: #3B4455;\n",
              "      fill: #D2E3FC;\n",
              "    }\n",
              "\n",
              "    [theme=dark] .colab-df-convert:hover {\n",
              "      background-color: #434B5C;\n",
              "      box-shadow: 0px 1px 3px 1px rgba(0, 0, 0, 0.15);\n",
              "      filter: drop-shadow(0px 1px 2px rgba(0, 0, 0, 0.3));\n",
              "      fill: #FFFFFF;\n",
              "    }\n",
              "  </style>\n",
              "\n",
              "      <script>\n",
              "        const buttonEl =\n",
              "          document.querySelector('#df-f6894ce5-e5bb-436b-9674-7c960492ced9 button.colab-df-convert');\n",
              "        buttonEl.style.display =\n",
              "          google.colab.kernel.accessAllowed ? 'block' : 'none';\n",
              "\n",
              "        async function convertToInteractive(key) {\n",
              "          const element = document.querySelector('#df-f6894ce5-e5bb-436b-9674-7c960492ced9');\n",
              "          const dataTable =\n",
              "            await google.colab.kernel.invokeFunction('convertToInteractive',\n",
              "                                                     [key], {});\n",
              "          if (!dataTable) return;\n",
              "\n",
              "          const docLinkHtml = 'Like what you see? Visit the ' +\n",
              "            '<a target=\"_blank\" href=https://colab.research.google.com/notebooks/data_table.ipynb>data table notebook</a>'\n",
              "            + ' to learn more about interactive tables.';\n",
              "          element.innerHTML = '';\n",
              "          dataTable['output_type'] = 'display_data';\n",
              "          await google.colab.output.renderOutput(dataTable, element);\n",
              "          const docLink = document.createElement('div');\n",
              "          docLink.innerHTML = docLinkHtml;\n",
              "          element.appendChild(docLink);\n",
              "        }\n",
              "      </script>\n",
              "    </div>\n",
              "  </div>\n",
              "  "
            ]
          },
          "metadata": {},
          "execution_count": 534
        }
      ]
    },
    {
      "cell_type": "code",
      "source": [
        "pca_k = PCA(n_components=2)\n",
        "x = updated_dataset\n",
        "principalComponents = pca_k.fit_transform(x)\n",
        "principalComponents.shape\n",
        "print(principalComponents.shape ,principalComponents[:,0], principalComponents[:,1])"
      ],
      "metadata": {
        "colab": {
          "base_uri": "https://localhost:8080/"
        },
        "id": "XSEssebUhS7O",
        "outputId": "474291f0-8242-4152-fa35-d610eb4cc1ba"
      },
      "execution_count": 535,
      "outputs": [
        {
          "output_type": "stream",
          "name": "stdout",
          "text": [
            "(2112, 2) [-1.05501693  2.06049468 -0.66788254 ... -0.32920362 -0.25349425\n",
            "  2.91970776] [ 1.93852688 -0.03768902  0.76817715 ... -0.29538042 -0.50694893\n",
            "  0.56346387]\n"
          ]
        }
      ]
    },
    {
      "cell_type": "code",
      "source": [
        "print(y_km_1)"
      ],
      "metadata": {
        "colab": {
          "base_uri": "https://localhost:8080/"
        },
        "id": "PpZeHeYekCvI",
        "outputId": "a2d7f4c0-fee4-4b15-8118-3c73d9b5ed21"
      },
      "execution_count": 536,
      "outputs": [
        {
          "output_type": "stream",
          "name": "stdout",
          "text": [
            "[1 0 2 ... 2 2 0]\n"
          ]
        }
      ]
    },
    {
      "cell_type": "code",
      "source": [
        "import matplotlib.pyplot as plt\n",
        "# plt.grid(color='r')\n",
        "plt.figure(figsize=(6,4))\n",
        "plt.scatter(principalComponents[:,0],principalComponents[:,1],c=y_km_1, plotnonfinite = True,cmap='viridis') # using scatter plot\n",
        "plt.xlabel('principal_1')\n",
        "plt.ylabel('principal_2')"
      ],
      "metadata": {
        "colab": {
          "base_uri": "https://localhost:8080/",
          "height": 406
        },
        "id": "NMl-7zHEh-LK",
        "outputId": "70ae03b1-3b61-4b9a-abd8-2cf93df35b5c"
      },
      "execution_count": 537,
      "outputs": [
        {
          "output_type": "execute_result",
          "data": {
            "text/plain": [
              "Text(0, 0.5, 'principal_2')"
            ]
          },
          "metadata": {},
          "execution_count": 537
        },
        {
          "output_type": "display_data",
          "data": {
            "text/plain": [
              "<Figure size 600x400 with 1 Axes>"
            ],
            "image/png": "[encoded data removed]"
          },
          "metadata": {}
        }
      ]
    },
    {
      "cell_type": "markdown",
      "source": [
        "[HP 2] Use the elbow method to select the best value of k for this dataset and plot your results. What value of k is the appropriate number of clusters for this problem?"
      ],
      "metadata": {
        "id": "BMVdgyBiblFg"
      }
    },
    {
      "cell_type": "code",
      "source": [
        "# Your code for HP2 goes here\n",
        "# Feel free to add cells below this for HP2"
      ],
      "metadata": {
        "id": "5dE5r-Rdcgkt"
      },
      "execution_count": 538,
      "outputs": []
    },
    {
      "cell_type": "markdown",
      "source": [
        "< Your answer for HP2 goes here >"
      ],
      "metadata": {
        "id": "8ESy_f68ciUo"
      }
    },
    {
      "cell_type": "code",
      "source": [
        "from sklearn.cluster import KMeans\n",
        "l1 = []\n",
        "for i in range(1, 10):\n",
        "    km_l = KMeans(n_clusters=i, init='random', random_state=0)\n",
        "    km_l.fit(x)\n",
        "    l1.append(km_l.inertia_)\n",
        "\n",
        "plt.plot(range(1, 10), l1, marker='o')\n",
        "plt.xlabel('Number of clusters')\n",
        "plt.ylabel('inertia')\n",
        "plt.show()"
      ],
      "metadata": {
        "colab": {
          "base_uri": "https://localhost:8080/",
          "height": 790
        },
        "id": "GI-J3XmXnbWU",
        "outputId": "0c7966ee-775c-4db5-d183-13477b38276e"
      },
      "execution_count": 539,
      "outputs": [
        {
          "output_type": "stream",
          "name": "stderr",
          "text": [
            "/usr/local/lib/python3.9/dist-packages/sklearn/cluster/_kmeans.py:870: FutureWarning: The default value of `n_init` will change from 10 to 'auto' in 1.4. Set the value of `n_init` explicitly to suppress the warning\n",
            "  warnings.warn(\n",
            "/usr/local/lib/python3.9/dist-packages/sklearn/cluster/_kmeans.py:870: FutureWarning: The default value of `n_init` will change from 10 to 'auto' in 1.4. Set the value of `n_init` explicitly to suppress the warning\n",
            "  warnings.warn(\n",
            "/usr/local/lib/python3.9/dist-packages/sklearn/cluster/_kmeans.py:870: FutureWarning: The default value of `n_init` will change from 10 to 'auto' in 1.4. Set the value of `n_init` explicitly to suppress the warning\n",
            "  warnings.warn(\n",
            "/usr/local/lib/python3.9/dist-packages/sklearn/cluster/_kmeans.py:870: FutureWarning: The default value of `n_init` will change from 10 to 'auto' in 1.4. Set the value of `n_init` explicitly to suppress the warning\n",
            "  warnings.warn(\n",
            "/usr/local/lib/python3.9/dist-packages/sklearn/cluster/_kmeans.py:870: FutureWarning: The default value of `n_init` will change from 10 to 'auto' in 1.4. Set the value of `n_init` explicitly to suppress the warning\n",
            "  warnings.warn(\n",
            "/usr/local/lib/python3.9/dist-packages/sklearn/cluster/_kmeans.py:870: FutureWarning: The default value of `n_init` will change from 10 to 'auto' in 1.4. Set the value of `n_init` explicitly to suppress the warning\n",
            "  warnings.warn(\n",
            "/usr/local/lib/python3.9/dist-packages/sklearn/cluster/_kmeans.py:870: FutureWarning: The default value of `n_init` will change from 10 to 'auto' in 1.4. Set the value of `n_init` explicitly to suppress the warning\n",
            "  warnings.warn(\n",
            "/usr/local/lib/python3.9/dist-packages/sklearn/cluster/_kmeans.py:870: FutureWarning: The default value of `n_init` will change from 10 to 'auto' in 1.4. Set the value of `n_init` explicitly to suppress the warning\n",
            "  warnings.warn(\n",
            "/usr/local/lib/python3.9/dist-packages/sklearn/cluster/_kmeans.py:870: FutureWarning: The default value of `n_init` will change from 10 to 'auto' in 1.4. Set the value of `n_init` explicitly to suppress the warning\n",
            "  warnings.warn(\n"
          ]
        },
        {
          "output_type": "display_data",
          "data": {
            "text/plain": [
              "<Figure size 640x480 with 1 Axes>"
            ],
            "image/png": "[encoded data removed]"
          },
          "metadata": {}
        }
      ]
    },
    {
      "cell_type": "markdown",
      "source": [
        "Here, I have plot the ineria for all the 10 cycles.\n",
        "By using inertia attribute, we can define the best number of appropriate culsters. This is elbow method.\n",
        "\n",
        "As, the lower values of inertia are better and zero is optimal. here the best fir for clustering is == 4 clusters."
      ],
      "metadata": {
        "id": "63y3IoNdu91d"
      }
    },
    {
      "cell_type": "code",
      "source": [
        "from sklearn.cluster import KMeans\n",
        "\n",
        "km_final = KMeans(n_clusters=4, init='random', n_init=5, max_iter=100, random_state=0)\n",
        "\n",
        "y_km_final = km_final.fit_predict(updated_dataset)\n",
        "\n",
        "plt.figure(figsize=(7,5))\n",
        "plt.scatter(principalComponents[:,0],principalComponents[:,1],c=y_km_final, plotnonfinite = True,cmap='viridis') # using scatter plot\n",
        "plt.xlabel('principal_1')\n",
        "plt.ylabel('principal_2')"
      ],
      "metadata": {
        "colab": {
          "base_uri": "https://localhost:8080/",
          "height": 483
        },
        "id": "KQHHKzj4yoql",
        "outputId": "2d53f8b4-037e-4a5a-85c7-8395ec06c162"
      },
      "execution_count": 541,
      "outputs": [
        {
          "output_type": "execute_result",
          "data": {
            "text/plain": [
              "Text(0, 0.5, 'principal_2')"
            ]
          },
          "metadata": {},
          "execution_count": 541
        },
        {
          "output_type": "display_data",
          "data": {
            "text/plain": [
              "<Figure size 700x500 with 1 Axes>"
            ],
            "image/png": "[encoded data removed]"
          },
          "metadata": {}
        }
      ]
    },
    {
      "cell_type": "markdown",
      "source": [
        "# References\n",
        "Include ALL your references here.\n",
        "\n",
        "1) https://www.kaggle.com/code/prashant111/k-means-clustering-with-python\n",
        "\n",
        "2) https://matplotlib.org/stable/tutorials/introductory/pyplot.html\n",
        "\n",
        "3) https://towardsdatascience.com/clustering-how-to-find-hyperparameters-using-inertia-b0343c6fe819\n",
        "\n",
        "4) https://www.youtube.com/watch?v=EItlUEPCIzM\n",
        "\n",
        "\n",
        "\n",
        "# What to turn in:\n",
        "1. The ipynb solution file, which includes the references\n",
        "2. If you use Colab or GitHub for version control, please share a link to your notebook or GitHub repository"
      ],
      "metadata": {
        "id": "OsHDpghuc5RT"
      }
    }
  ]
}