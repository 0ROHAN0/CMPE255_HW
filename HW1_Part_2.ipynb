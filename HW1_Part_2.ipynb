{
  "nbformat": 4,
  "nbformat_minor": 0,
  "metadata": {
    "colab": {
      "provenance": [],
      "include_colab_link": true
    },
    "kernelspec": {
      "name": "python3",
      "display_name": "Python 3"
    },
    "language_info": {
      "name": "python"
    }
  },
  "cells": [
    {
      "cell_type": "markdown",
      "metadata": {
        "id": "view-in-github",
        "colab_type": "text"
      },
      "source": [
        "<a href=\"https://colab.research.google.com/github/0ROHAN0/CMPE255_HW/blob/main/HW1_Part_2.ipynb\" target=\"_parent\"><img src=\"https://colab.research.google.com/assets/colab-badge.svg\" alt=\"Open In Colab\"/></a>"
      ]
    },
    {
      "cell_type": "markdown",
      "source": [
        "# HW 1 Part 2: Preprocessing Bank Marketing Dataset\n",
        "\n",
        "The original dataset is available here: https://archive.ics.uci.edu/ml/datasets/Bank+Marketing\n",
        "We have a modified subset of this dataset to practice data  preprocessing. \n",
        "\n",
        "Perform the following tasks on the provided bank marketing dataset (bank-hw1.csv contains the dataset and bank-names.txt contains the description of the original dataset). High pass and low pass specifications are on Canvas. Please note that ALL questions labelled [LP] must be completed satisfactorily to receive a low pass on the assignment. The [HP] question specifications combine all parts of the homework. Please refer to Canvas for more details.\n",
        "\n",
        "Note that if you are unable to complete any of the LP questions satisfactorily, you will receive a grade of \"revision required\". You can revise and resubmit your work in exchange for a token. Please review the syllabus for more information on specifications grading.\n",
        "\n",
        "**VERY IMPORTANT**: Include **ALL** the references you used for this assignment, including names of classmates you discuss with. Failure to cite your sources counts as an act of academic dishonesty and will be taken seriously without zero tolerance. You will automatically receive a “fail” grade in the homework and further serious penalties may be imposed.\n",
        "\n",
        "NOTE: You can look for help on the Internet but refrain from referencing too much. Please cite all your sources in your submission. \n",
        "When you submit your assignment, you automatically agree to the following statement. If you do not agree, it is your responsibility to provide the reason.\n",
        "\n",
        "“*I affirm that I have neither given nor received unauthorized help in completing this homework. I am not aware of others receiving such help. I have cited all the sources in the solution file.*”"
      ],
      "metadata": {
        "id": "nFqIMlX0hG73"
      }
    },
    {
      "cell_type": "code",
      "source": [
        "from google.colab import drive\n",
        "drive.mount('/content/drive')"
      ],
      "metadata": {
        "colab": {
          "base_uri": "https://localhost:8080/"
        },
        "id": "jqaLpUYhzLT5",
        "outputId": "336eef05-4afc-4937-84e5-7a2dd8b43470"
      },
      "execution_count": null,
      "outputs": [
        {
          "output_type": "stream",
          "name": "stdout",
          "text": [
            "Drive already mounted at /content/drive; to attempt to forcibly remount, call drive.mount(\"/content/drive\", force_remount=True).\n"
          ]
        }
      ]
    },
    {
      "cell_type": "markdown",
      "source": [
        "[LP 1] Deal with the erroneous values in the dataset. \n",
        "[LP 2] Deal with the missing values in the dataset. \n",
        "\n",
        "Below is necessary information about the columns that contain missing and erroneous values:\n",
        "\n",
        "1. Age: must be in the range 18-100 \n",
        "2. Job: case insensitive field, column contains clerical errors where extra dots or punctuations are left in the entries \n",
        "3. Marital: marital status is case insensitive; short forms of the entries refer to the same value (e.g., div is the same as divorced); there are typographical errors in the entries\n",
        "4. Day and month: some entries have both these values combined in one column \n",
        "5. Duration: all entries must be non-negative\n",
        "\n",
        "The set of possible values in each column and their meaning is provided in the bank-names.txt file. You can use the information to make decisions. Please explain your choices even if you only took a guess. \n",
        "\n"
      ],
      "metadata": {
        "id": "m6ElwLnzjL0a"
      }
    },
    {
      "cell_type": "code",
      "source": [
        "## Your code for LP 1 goes here. \n",
        "from matplotlib import pyplot as plt\n",
        "import numpy as np\n",
        "import pandas as pd\n",
        "bank_dataframe = pd.read_csv('/content/drive/MyDrive/CMPE 255/CMPE 255/HW/HW1/Part2/bank-hw1.csv')\n",
        "bank_dataframe.info()\n",
        "bank_dataframe.head()"
      ],
      "metadata": {
        "id": "0E5SZzqsCSCK",
        "colab": {
          "base_uri": "https://localhost:8080/",
          "height": 635
        },
        "outputId": "5d04e52a-a768-4ecb-821d-21787dd77aa8"
      },
      "execution_count": null,
      "outputs": [
        {
          "output_type": "stream",
          "name": "stdout",
          "text": [
            "<class 'pandas.core.frame.DataFrame'>\n",
            "RangeIndex: 2251 entries, 0 to 2250\n",
            "Data columns (total 17 columns):\n",
            " #   Column     Non-Null Count  Dtype  \n",
            "---  ------     --------------  -----  \n",
            " 0   age        2251 non-null   int64  \n",
            " 1   job        2247 non-null   object \n",
            " 2   marital    2251 non-null   object \n",
            " 3   education  2142 non-null   object \n",
            " 4   default    2251 non-null   object \n",
            " 5   balance    2251 non-null   int64  \n",
            " 6   housing    2251 non-null   object \n",
            " 7   loan       2251 non-null   object \n",
            " 8   contact    2251 non-null   object \n",
            " 9   day        2248 non-null   object \n",
            " 10  month      2249 non-null   object \n",
            " 11  duration   2246 non-null   float64\n",
            " 12  campaign   2249 non-null   float64\n",
            " 13  pdays      2248 non-null   float64\n",
            " 14  previous   2251 non-null   int64  \n",
            " 15  poutcome   2162 non-null   object \n",
            " 16  y          2251 non-null   object \n",
            "dtypes: float64(3), int64(3), object(11)\n",
            "memory usage: 299.1+ KB\n"
          ]
        },
        {
          "output_type": "execute_result",
          "data": {
            "text/plain": [
              "   age          job   marital  education default  balance housing loan  \\\n",
              "0   47   management   married   tertiary      no     -315     yes  yes   \n",
              "1   42   management   married   tertiary      no        0      no   no   \n",
              "2   25      student    single  secondary      no      154      no   no   \n",
              "3   49    housemaid  divorced  secondary      no      267      no   no   \n",
              "4   25  blue-collar    single    primary      no     -221     yes   no   \n",
              "\n",
              "     contact day month  duration  campaign  pdays  previous poutcome    y  \n",
              "0   cellular  27   aug     112.0       9.0   -1.0         0  unknown   no  \n",
              "1   cellular  26   aug     179.0      16.0   -1.0         0  unknown   no  \n",
              "2   cellular   2   sep     382.0       1.0  183.0         3  success  yes  \n",
              "3  telephone   9   feb      23.0       5.0   -1.0         0  unknown   no  \n",
              "4    unknown  23   may     250.0       1.0   -1.0         0  unknown   no  "
            ],
            "text/html": [
              "\n",
              "  <div id=\"df-018cf311-1cb6-4276-8f41-c2fe4e707097\">\n",
              "    <div class=\"colab-df-container\">\n",
              "      <div>\n",
              "<style scoped>\n",
              "    .dataframe tbody tr th:only-of-type {\n",
              "        vertical-align: middle;\n",
              "    }\n",
              "\n",
              "    .dataframe tbody tr th {\n",
              "        vertical-align: top;\n",
              "    }\n",
              "\n",
              "    .dataframe thead th {\n",
              "        text-align: right;\n",
              "    }\n",
              "</style>\n",
              "<table border=\"1\" class=\"dataframe\">\n",
              "  <thead>\n",
              "    <tr style=\"text-align: right;\">\n",
              "      <th></th>\n",
              "      <th>age</th>\n",
              "      <th>job</th>\n",
              "      <th>marital</th>\n",
              "      <th>education</th>\n",
              "      <th>default</th>\n",
              "      <th>balance</th>\n",
              "      <th>housing</th>\n",
              "      <th>loan</th>\n",
              "      <th>contact</th>\n",
              "      <th>day</th>\n",
              "      <th>month</th>\n",
              "      <th>duration</th>\n",
              "      <th>campaign</th>\n",
              "      <th>pdays</th>\n",
              "      <th>previous</th>\n",
              "      <th>poutcome</th>\n",
              "      <th>y</th>\n",
              "    </tr>\n",
              "  </thead>\n",
              "  <tbody>\n",
              "    <tr>\n",
              "      <th>0</th>\n",
              "      <td>47</td>\n",
              "      <td>management</td>\n",
              "      <td>married</td>\n",
              "      <td>tertiary</td>\n",
              "      <td>no</td>\n",
              "      <td>-315</td>\n",
              "      <td>yes</td>\n",
              "      <td>yes</td>\n",
              "      <td>cellular</td>\n",
              "      <td>27</td>\n",
              "      <td>aug</td>\n",
              "      <td>112.0</td>\n",
              "      <td>9.0</td>\n",
              "      <td>-1.0</td>\n",
              "      <td>0</td>\n",
              "      <td>unknown</td>\n",
              "      <td>no</td>\n",
              "    </tr>\n",
              "    <tr>\n",
              "      <th>1</th>\n",
              "      <td>42</td>\n",
              "      <td>management</td>\n",
              "      <td>married</td>\n",
              "      <td>tertiary</td>\n",
              "      <td>no</td>\n",
              "      <td>0</td>\n",
              "      <td>no</td>\n",
              "      <td>no</td>\n",
              "      <td>cellular</td>\n",
              "      <td>26</td>\n",
              "      <td>aug</td>\n",
              "      <td>179.0</td>\n",
              "      <td>16.0</td>\n",
              "      <td>-1.0</td>\n",
              "      <td>0</td>\n",
              "      <td>unknown</td>\n",
              "      <td>no</td>\n",
              "    </tr>\n",
              "    <tr>\n",
              "      <th>2</th>\n",
              "      <td>25</td>\n",
              "      <td>student</td>\n",
              "      <td>single</td>\n",
              "      <td>secondary</td>\n",
              "      <td>no</td>\n",
              "      <td>154</td>\n",
              "      <td>no</td>\n",
              "      <td>no</td>\n",
              "      <td>cellular</td>\n",
              "      <td>2</td>\n",
              "      <td>sep</td>\n",
              "      <td>382.0</td>\n",
              "      <td>1.0</td>\n",
              "      <td>183.0</td>\n",
              "      <td>3</td>\n",
              "      <td>success</td>\n",
              "      <td>yes</td>\n",
              "    </tr>\n",
              "    <tr>\n",
              "      <th>3</th>\n",
              "      <td>49</td>\n",
              "      <td>housemaid</td>\n",
              "      <td>divorced</td>\n",
              "      <td>secondary</td>\n",
              "      <td>no</td>\n",
              "      <td>267</td>\n",
              "      <td>no</td>\n",
              "      <td>no</td>\n",
              "      <td>telephone</td>\n",
              "      <td>9</td>\n",
              "      <td>feb</td>\n",
              "      <td>23.0</td>\n",
              "      <td>5.0</td>\n",
              "      <td>-1.0</td>\n",
              "      <td>0</td>\n",
              "      <td>unknown</td>\n",
              "      <td>no</td>\n",
              "    </tr>\n",
              "    <tr>\n",
              "      <th>4</th>\n",
              "      <td>25</td>\n",
              "      <td>blue-collar</td>\n",
              "      <td>single</td>\n",
              "      <td>primary</td>\n",
              "      <td>no</td>\n",
              "      <td>-221</td>\n",
              "      <td>yes</td>\n",
              "      <td>no</td>\n",
              "      <td>unknown</td>\n",
              "      <td>23</td>\n",
              "      <td>may</td>\n",
              "      <td>250.0</td>\n",
              "      <td>1.0</td>\n",
              "      <td>-1.0</td>\n",
              "      <td>0</td>\n",
              "      <td>unknown</td>\n",
              "      <td>no</td>\n",
              "    </tr>\n",
              "  </tbody>\n",
              "</table>\n",
              "</div>\n",
              "      <button class=\"colab-df-convert\" onclick=\"convertToInteractive('df-018cf311-1cb6-4276-8f41-c2fe4e707097')\"\n",
              "              title=\"Convert this dataframe to an interactive table.\"\n",
              "              style=\"display:none;\">\n",
              "        \n",
              "  <svg xmlns=\"http://www.w3.org/2000/svg\" height=\"24px\"viewBox=\"0 0 24 24\"\n",
              "       width=\"24px\">\n",
              "    <path d=\"M0 0h24v24H0V0z\" fill=\"none\"/>\n",
              "    <path d=\"M18.56 5.44l.94 2.06.94-2.06 2.06-.94-2.06-.94-.94-2.06-.94 2.06-2.06.94zm-11 1L8.5 8.5l.94-2.06 2.06-.94-2.06-.94L8.5 2.5l-.94 2.06-2.06.94zm10 10l.94 2.06.94-2.06 2.06-.94-2.06-.94-.94-2.06-.94 2.06-2.06.94z\"/><path d=\"M17.41 7.96l-1.37-1.37c-.4-.4-.92-.59-1.43-.59-.52 0-1.04.2-1.43.59L10.3 9.45l-7.72 7.72c-.78.78-.78 2.05 0 2.83L4 21.41c.39.39.9.59 1.41.59.51 0 1.02-.2 1.41-.59l7.78-7.78 2.81-2.81c.8-.78.8-2.07 0-2.86zM5.41 20L4 18.59l7.72-7.72 1.47 1.35L5.41 20z\"/>\n",
              "  </svg>\n",
              "      </button>\n",
              "      \n",
              "  <style>\n",
              "    .colab-df-container {\n",
              "      display:flex;\n",
              "      flex-wrap:wrap;\n",
              "      gap: 12px;\n",
              "    }\n",
              "\n",
              "    .colab-df-convert {\n",
              "      background-color: #E8F0FE;\n",
              "      border: none;\n",
              "      border-radius: 50%;\n",
              "      cursor: pointer;\n",
              "      display: none;\n",
              "      fill: #1967D2;\n",
              "      height: 32px;\n",
              "      padding: 0 0 0 0;\n",
              "      width: 32px;\n",
              "    }\n",
              "\n",
              "    .colab-df-convert:hover {\n",
              "      background-color: #E2EBFA;\n",
              "      box-shadow: 0px 1px 2px rgba(60, 64, 67, 0.3), 0px 1px 3px 1px rgba(60, 64, 67, 0.15);\n",
              "      fill: #174EA6;\n",
              "    }\n",
              "\n",
              "    [theme=dark] .colab-df-convert {\n",
              "      background-color: #3B4455;\n",
              "      fill: #D2E3FC;\n",
              "    }\n",
              "\n",
              "    [theme=dark] .colab-df-convert:hover {\n",
              "      background-color: #434B5C;\n",
              "      box-shadow: 0px 1px 3px 1px rgba(0, 0, 0, 0.15);\n",
              "      filter: drop-shadow(0px 1px 2px rgba(0, 0, 0, 0.3));\n",
              "      fill: #FFFFFF;\n",
              "    }\n",
              "  </style>\n",
              "\n",
              "      <script>\n",
              "        const buttonEl =\n",
              "          document.querySelector('#df-018cf311-1cb6-4276-8f41-c2fe4e707097 button.colab-df-convert');\n",
              "        buttonEl.style.display =\n",
              "          google.colab.kernel.accessAllowed ? 'block' : 'none';\n",
              "\n",
              "        async function convertToInteractive(key) {\n",
              "          const element = document.querySelector('#df-018cf311-1cb6-4276-8f41-c2fe4e707097');\n",
              "          const dataTable =\n",
              "            await google.colab.kernel.invokeFunction('convertToInteractive',\n",
              "                                                     [key], {});\n",
              "          if (!dataTable) return;\n",
              "\n",
              "          const docLinkHtml = 'Like what you see? Visit the ' +\n",
              "            '<a target=\"_blank\" href=https://colab.research.google.com/notebooks/data_table.ipynb>data table notebook</a>'\n",
              "            + ' to learn more about interactive tables.';\n",
              "          element.innerHTML = '';\n",
              "          dataTable['output_type'] = 'display_data';\n",
              "          await google.colab.output.renderOutput(dataTable, element);\n",
              "          const docLink = document.createElement('div');\n",
              "          docLink.innerHTML = docLinkHtml;\n",
              "          element.appendChild(docLink);\n",
              "        }\n",
              "      </script>\n",
              "    </div>\n",
              "  </div>\n",
              "  "
            ]
          },
          "metadata": {},
          "execution_count": 21
        }
      ]
    },
    {
      "cell_type": "code",
      "source": [
        "#Working on collumn Age\n",
        "bank_dataframe = bank_dataframe[bank_dataframe['age'] <= 100]\n",
        "bank_dataframe = bank_dataframe[bank_dataframe['age'] >= 18]\n"
      ],
      "metadata": {
        "id": "OHgdjv0cjBo2"
      },
      "execution_count": null,
      "outputs": []
    },
    {
      "cell_type": "code",
      "source": [
        "bank_dataframe['job'].value_counts()"
      ],
      "metadata": {
        "colab": {
          "base_uri": "https://localhost:8080/"
        },
        "id": "Kn0soHHRnMGQ",
        "outputId": "32ddd8c0-801c-4bdf-cf22-ca5948bb6375"
      },
      "execution_count": null,
      "outputs": [
        {
          "output_type": "execute_result",
          "data": {
            "text/plain": [
              "management       465\n",
              "blue-collar      463\n",
              "technician       381\n",
              "admin            273\n",
              "services         197\n",
              "retired          111\n",
              "entrepreneur      81\n",
              "self-employed     77\n",
              "housemaid         64\n",
              "unemployed        57\n",
              "student           54\n",
              "unknown           18\n",
              "None               1\n",
              "Name: job, dtype: int64"
            ]
          },
          "metadata": {},
          "execution_count": 11
        }
      ]
    },
    {
      "cell_type": "code",
      "source": [
        "bank_dataframe['job'] = bank_dataframe['job'].replace(to_replace = 'admin.',value='admin')"
      ],
      "metadata": {
        "id": "0Dyn-lLrntRB"
      },
      "execution_count": null,
      "outputs": []
    },
    {
      "cell_type": "code",
      "source": [
        "bank_dataframe['job'].value_counts()"
      ],
      "metadata": {
        "colab": {
          "base_uri": "https://localhost:8080/"
        },
        "id": "ybtN5GTxF1zL",
        "outputId": "87f3256c-9224-4868-c4e3-b56b0950e411"
      },
      "execution_count": null,
      "outputs": [
        {
          "output_type": "execute_result",
          "data": {
            "text/plain": [
              "management       465\n",
              "blue-collar      463\n",
              "technician       381\n",
              "admin            273\n",
              "services         197\n",
              "retired          111\n",
              "entrepreneur      81\n",
              "self-employed     77\n",
              "housemaid         64\n",
              "unemployed        57\n",
              "student           54\n",
              "unknown           18\n",
              "None               1\n",
              "Name: job, dtype: int64"
            ]
          },
          "metadata": {},
          "execution_count": 19
        }
      ]
    },
    {
      "cell_type": "code",
      "source": [
        "mar_list = ['Married','maried','mairied','marirred','M']\n",
        "mar_list_1 = ['Single','1']\n",
        "mar_list_2 = ['div','Div']\n",
        "\n",
        "bank_dataframe['marital'] = bank_dataframe['marital'].replace(to_replace = mar_list,value='married')\n",
        "bank_dataframe['marital'] = bank_dataframe['marital'].replace(to_replace = mar_list_1,value='single')\n",
        "bank_dataframe['marital'] = bank_dataframe['marital'].replace(to_replace = mar_list_2,value='divorced')"
      ],
      "metadata": {
        "id": "FvWQM0ZqpJLr"
      },
      "execution_count": null,
      "outputs": []
    },
    {
      "cell_type": "code",
      "source": [
        "aug_list = ['27-Aug','8-Aug','22-Aug','august','August']\n",
        "bank_dataframe['month'] = bank_dataframe['month'].replace(to_replace = aug_list,value='aug')\n",
        "bank_dataframe['month'] = bank_dataframe['month'].replace(to_replace = '28-Jul',value='jul')"
      ],
      "metadata": {
        "id": "IKr9pLsjpkVS"
      },
      "execution_count": null,
      "outputs": []
    },
    {
      "cell_type": "code",
      "source": [
        "bank_dataframe['day'] = bank_dataframe['day'].replace(to_replace = '18-Nov',value=18)\n",
        "bank_dataframe['day'] = bank_dataframe['day'].replace(to_replace = '5-Jun',value=5)"
      ],
      "metadata": {
        "id": "dKmGdvszptTy"
      },
      "execution_count": null,
      "outputs": []
    },
    {
      "cell_type": "code",
      "source": [
        "#Working on column - duration\n",
        "min(bank_dataframe['duration'])\n",
        "#usingh min-max scaler, negative value will get fixed. (performed in LP4 too.)\n"
      ],
      "metadata": {
        "colab": {
          "base_uri": "https://localhost:8080/"
        },
        "id": "2OoKDhwdp5CM",
        "outputId": "ad3a94c7-85f9-4846-da2b-06858d1d8279"
      },
      "execution_count": null,
      "outputs": [
        {
          "output_type": "execute_result",
          "data": {
            "text/plain": [
              "-112.0"
            ]
          },
          "metadata": {},
          "execution_count": 32
        }
      ]
    },
    {
      "cell_type": "code",
      "source": [
        "# from sklearn.preprocessing import MinMaxScaler\n",
        "# scaler = MinMaxScaler()\n",
        "# scaled_df = pd.DataFrame(scaler.fit_transform(bank_dataframe[['duration']]))\n",
        "# scaled_df"
      ],
      "metadata": {
        "colab": {
          "base_uri": "https://localhost:8080/",
          "height": 424
        },
        "id": "2-ZdUCW7W-99",
        "outputId": "6b237dc5-13a3-4ca3-c0f6-79bf08ab1caa"
      },
      "execution_count": null,
      "outputs": [
        {
          "output_type": "execute_result",
          "data": {
            "text/plain": [
              "             0\n",
              "0     0.065230\n",
              "1     0.084741\n",
              "2     0.143856\n",
              "3     0.039313\n",
              "4     0.105416\n",
              "...        ...\n",
              "2246  0.059988\n",
              "2247  0.064648\n",
              "2248  0.086488\n",
              "2249  0.050961\n",
              "2250  0.059697\n",
              "\n",
              "[2251 rows x 1 columns]"
            ],
            "text/html": [
              "\n",
              "  <div id=\"df-039208f6-d037-4cdc-b524-19cb24b1fcb5\">\n",
              "    <div class=\"colab-df-container\">\n",
              "      <div>\n",
              "<style scoped>\n",
              "    .dataframe tbody tr th:only-of-type {\n",
              "        vertical-align: middle;\n",
              "    }\n",
              "\n",
              "    .dataframe tbody tr th {\n",
              "        vertical-align: top;\n",
              "    }\n",
              "\n",
              "    .dataframe thead th {\n",
              "        text-align: right;\n",
              "    }\n",
              "</style>\n",
              "<table border=\"1\" class=\"dataframe\">\n",
              "  <thead>\n",
              "    <tr style=\"text-align: right;\">\n",
              "      <th></th>\n",
              "      <th>0</th>\n",
              "    </tr>\n",
              "  </thead>\n",
              "  <tbody>\n",
              "    <tr>\n",
              "      <th>0</th>\n",
              "      <td>0.065230</td>\n",
              "    </tr>\n",
              "    <tr>\n",
              "      <th>1</th>\n",
              "      <td>0.084741</td>\n",
              "    </tr>\n",
              "    <tr>\n",
              "      <th>2</th>\n",
              "      <td>0.143856</td>\n",
              "    </tr>\n",
              "    <tr>\n",
              "      <th>3</th>\n",
              "      <td>0.039313</td>\n",
              "    </tr>\n",
              "    <tr>\n",
              "      <th>4</th>\n",
              "      <td>0.105416</td>\n",
              "    </tr>\n",
              "    <tr>\n",
              "      <th>...</th>\n",
              "      <td>...</td>\n",
              "    </tr>\n",
              "    <tr>\n",
              "      <th>2246</th>\n",
              "      <td>0.059988</td>\n",
              "    </tr>\n",
              "    <tr>\n",
              "      <th>2247</th>\n",
              "      <td>0.064648</td>\n",
              "    </tr>\n",
              "    <tr>\n",
              "      <th>2248</th>\n",
              "      <td>0.086488</td>\n",
              "    </tr>\n",
              "    <tr>\n",
              "      <th>2249</th>\n",
              "      <td>0.050961</td>\n",
              "    </tr>\n",
              "    <tr>\n",
              "      <th>2250</th>\n",
              "      <td>0.059697</td>\n",
              "    </tr>\n",
              "  </tbody>\n",
              "</table>\n",
              "<p>2251 rows × 1 columns</p>\n",
              "</div>\n",
              "      <button class=\"colab-df-convert\" onclick=\"convertToInteractive('df-039208f6-d037-4cdc-b524-19cb24b1fcb5')\"\n",
              "              title=\"Convert this dataframe to an interactive table.\"\n",
              "              style=\"display:none;\">\n",
              "        \n",
              "  <svg xmlns=\"http://www.w3.org/2000/svg\" height=\"24px\"viewBox=\"0 0 24 24\"\n",
              "       width=\"24px\">\n",
              "    <path d=\"M0 0h24v24H0V0z\" fill=\"none\"/>\n",
              "    <path d=\"M18.56 5.44l.94 2.06.94-2.06 2.06-.94-2.06-.94-.94-2.06-.94 2.06-2.06.94zm-11 1L8.5 8.5l.94-2.06 2.06-.94-2.06-.94L8.5 2.5l-.94 2.06-2.06.94zm10 10l.94 2.06.94-2.06 2.06-.94-2.06-.94-.94-2.06-.94 2.06-2.06.94z\"/><path d=\"M17.41 7.96l-1.37-1.37c-.4-.4-.92-.59-1.43-.59-.52 0-1.04.2-1.43.59L10.3 9.45l-7.72 7.72c-.78.78-.78 2.05 0 2.83L4 21.41c.39.39.9.59 1.41.59.51 0 1.02-.2 1.41-.59l7.78-7.78 2.81-2.81c.8-.78.8-2.07 0-2.86zM5.41 20L4 18.59l7.72-7.72 1.47 1.35L5.41 20z\"/>\n",
              "  </svg>\n",
              "      </button>\n",
              "      \n",
              "  <style>\n",
              "    .colab-df-container {\n",
              "      display:flex;\n",
              "      flex-wrap:wrap;\n",
              "      gap: 12px;\n",
              "    }\n",
              "\n",
              "    .colab-df-convert {\n",
              "      background-color: #E8F0FE;\n",
              "      border: none;\n",
              "      border-radius: 50%;\n",
              "      cursor: pointer;\n",
              "      display: none;\n",
              "      fill: #1967D2;\n",
              "      height: 32px;\n",
              "      padding: 0 0 0 0;\n",
              "      width: 32px;\n",
              "    }\n",
              "\n",
              "    .colab-df-convert:hover {\n",
              "      background-color: #E2EBFA;\n",
              "      box-shadow: 0px 1px 2px rgba(60, 64, 67, 0.3), 0px 1px 3px 1px rgba(60, 64, 67, 0.15);\n",
              "      fill: #174EA6;\n",
              "    }\n",
              "\n",
              "    [theme=dark] .colab-df-convert {\n",
              "      background-color: #3B4455;\n",
              "      fill: #D2E3FC;\n",
              "    }\n",
              "\n",
              "    [theme=dark] .colab-df-convert:hover {\n",
              "      background-color: #434B5C;\n",
              "      box-shadow: 0px 1px 3px 1px rgba(0, 0, 0, 0.15);\n",
              "      filter: drop-shadow(0px 1px 2px rgba(0, 0, 0, 0.3));\n",
              "      fill: #FFFFFF;\n",
              "    }\n",
              "  </style>\n",
              "\n",
              "      <script>\n",
              "        const buttonEl =\n",
              "          document.querySelector('#df-039208f6-d037-4cdc-b524-19cb24b1fcb5 button.colab-df-convert');\n",
              "        buttonEl.style.display =\n",
              "          google.colab.kernel.accessAllowed ? 'block' : 'none';\n",
              "\n",
              "        async function convertToInteractive(key) {\n",
              "          const element = document.querySelector('#df-039208f6-d037-4cdc-b524-19cb24b1fcb5');\n",
              "          const dataTable =\n",
              "            await google.colab.kernel.invokeFunction('convertToInteractive',\n",
              "                                                     [key], {});\n",
              "          if (!dataTable) return;\n",
              "\n",
              "          const docLinkHtml = 'Like what you see? Visit the ' +\n",
              "            '<a target=\"_blank\" href=https://colab.research.google.com/notebooks/data_table.ipynb>data table notebook</a>'\n",
              "            + ' to learn more about interactive tables.';\n",
              "          element.innerHTML = '';\n",
              "          dataTable['output_type'] = 'display_data';\n",
              "          await google.colab.output.renderOutput(dataTable, element);\n",
              "          const docLink = document.createElement('div');\n",
              "          docLink.innerHTML = docLinkHtml;\n",
              "          element.appendChild(docLink);\n",
              "        }\n",
              "      </script>\n",
              "    </div>\n",
              "  </div>\n",
              "  "
            ]
          },
          "metadata": {},
          "execution_count": 28
        }
      ]
    },
    {
      "cell_type": "markdown",
      "source": [
        "LP1: < Your explanation for LP 1 goes here >\n",
        "\n"
      ],
      "metadata": {
        "id": "qw5yJi0BFixU"
      }
    },
    {
      "cell_type": "markdown",
      "source": [
        "LP2: < Your explanation for LP 2 goes here >"
      ],
      "metadata": {
        "id": "3F20QHiHFlFt"
      }
    },
    {
      "cell_type": "markdown",
      "source": [
        "[LP 3] Use encoders and convert the categorical variables to numerical values."
      ],
      "metadata": {
        "id": "xh9UM5hqn1HO"
      }
    },
    {
      "cell_type": "code",
      "source": [
        "## Your code for LP 3 goes here. "
      ],
      "metadata": {
        "id": "8S41K2hfCWPa"
      },
      "execution_count": null,
      "outputs": []
    },
    {
      "cell_type": "code",
      "source": [
        "# Taking New Dataframe\n",
        "bank_cleaned_dataset = pd.DataFrame()"
      ],
      "metadata": {
        "id": "y0MDLgZoxUDf"
      },
      "execution_count": null,
      "outputs": []
    },
    {
      "cell_type": "code",
      "source": [
        "from sklearn.preprocessing import LabelEncoder\n",
        "\n",
        "label_encoding = LabelEncoder()\n",
        "\n",
        "bank_cleaned_dataset['job'] = label_encoding.fit_transform(bank_dataframe['job'])\n",
        "bank_cleaned_dataset['marital'] = label_encoding.fit_transform(bank_dataframe['marital'])\n",
        "bank_cleaned_dataset['education'] = label_encoding.fit_transform(bank_dataframe['education'])\n",
        "bank_cleaned_dataset['default'] = label_encoding.fit_transform(bank_dataframe['default'])\n",
        "bank_cleaned_dataset['housing'] = label_encoding.fit_transform(bank_dataframe['housing'])\n",
        "bank_cleaned_dataset['loan'] = label_encoding.fit_transform(bank_dataframe['loan'])\n",
        "bank_cleaned_dataset['contact'] = label_encoding.fit_transform(bank_dataframe['contact'])\n",
        "bank_cleaned_dataset['month'] = label_encoding.fit_transform(bank_dataframe['month'])\n",
        "bank_cleaned_dataset['poutcome'] = label_encoding.fit_transform(bank_dataframe['poutcome'])\n",
        "bank_cleaned_dataset['y'] = label_encoding.fit_transform(bank_dataframe['y'])"
      ],
      "metadata": {
        "id": "q2duS4NJxYjJ"
      },
      "execution_count": null,
      "outputs": []
    },
    {
      "cell_type": "markdown",
      "source": [
        "[HP 1] Describe your choices to preprocess these columns and explain why they are appropriate for the column."
      ],
      "metadata": {
        "id": "IW1gqYw6DUls"
      }
    },
    {
      "cell_type": "markdown",
      "source": [
        "Encoding categorical column with label encoding as some columna are already in a binary data, on top of that, through label encoding we can process the dataset while having low diminsionality.\n",
        "\n",
        "\n"
      ],
      "metadata": {
        "id": "Z4cohM7LCXy7"
      }
    },
    {
      "cell_type": "markdown",
      "source": [
        "[LP 4] Use an appropriate scaler to scale the numerical values to a suitable range of values. Briefly explain the process you used."
      ],
      "metadata": {
        "id": "eYIkt1kNn4AQ"
      }
    },
    {
      "cell_type": "code",
      "source": [
        "## Your code for LP 4 goes here. \n",
        "from sklearn.preprocessing import MinMaxScaler\n",
        "min_max_scaler = MinMaxScaler()\n",
        "\n",
        "bank_cleaned_dataset[['age','balance','day','duration','campaign','pdays','previous']] = min_max_scaler.fit_transform(bank_dataframe[['age','balance','day','duration','campaign','pdays','previous']])\n",
        "bank_cleaned_dataset.head()"
      ],
      "metadata": {
        "id": "GNhdECajCdZK",
        "colab": {
          "base_uri": "https://localhost:8080/",
          "height": 206
        },
        "outputId": "5a9d9a4b-2203-4564-dc04-2f18b4d510f5"
      },
      "execution_count": null,
      "outputs": [
        {
          "output_type": "execute_result",
          "data": {
            "text/plain": [
              "   job  marital  education  default  housing  loan  contact  month  poutcome  \\\n",
              "0    6       10          2        0        1     1        0      2         2   \n",
              "1    6       10          2        0        0     0        0      2         2   \n",
              "2   10       11          1        0        0     0        0     12         1   \n",
              "3    5        6          1        0        0     0        1      4         2   \n",
              "4    3       11          0        0        1     0        2      9         2   \n",
              "\n",
              "   y       age   balance       day  duration  campaign     pdays  previous  \n",
              "0  0  0.153584  0.024163  0.866667  0.065230  0.163265  0.000000  0.000000  \n",
              "1  0  0.136519  0.029542  0.833333  0.084741  0.306122  0.000000  0.000000  \n",
              "2  1  0.078498  0.032172  0.033333  0.143856  0.000000  0.222491  0.081081  \n",
              "3  0  0.160410  0.034101  0.266667  0.039313  0.081633  0.000000  0.000000  \n",
              "4  0  0.078498  0.025768  0.733333  0.105416  0.000000  0.000000  0.000000  "
            ],
            "text/html": [
              "\n",
              "  <div id=\"df-82615a82-db00-4aec-8cb4-e4d933990b0a\">\n",
              "    <div class=\"colab-df-container\">\n",
              "      <div>\n",
              "<style scoped>\n",
              "    .dataframe tbody tr th:only-of-type {\n",
              "        vertical-align: middle;\n",
              "    }\n",
              "\n",
              "    .dataframe tbody tr th {\n",
              "        vertical-align: top;\n",
              "    }\n",
              "\n",
              "    .dataframe thead th {\n",
              "        text-align: right;\n",
              "    }\n",
              "</style>\n",
              "<table border=\"1\" class=\"dataframe\">\n",
              "  <thead>\n",
              "    <tr style=\"text-align: right;\">\n",
              "      <th></th>\n",
              "      <th>job</th>\n",
              "      <th>marital</th>\n",
              "      <th>education</th>\n",
              "      <th>default</th>\n",
              "      <th>housing</th>\n",
              "      <th>loan</th>\n",
              "      <th>contact</th>\n",
              "      <th>month</th>\n",
              "      <th>poutcome</th>\n",
              "      <th>y</th>\n",
              "      <th>age</th>\n",
              "      <th>balance</th>\n",
              "      <th>day</th>\n",
              "      <th>duration</th>\n",
              "      <th>campaign</th>\n",
              "      <th>pdays</th>\n",
              "      <th>previous</th>\n",
              "    </tr>\n",
              "  </thead>\n",
              "  <tbody>\n",
              "    <tr>\n",
              "      <th>0</th>\n",
              "      <td>6</td>\n",
              "      <td>10</td>\n",
              "      <td>2</td>\n",
              "      <td>0</td>\n",
              "      <td>1</td>\n",
              "      <td>1</td>\n",
              "      <td>0</td>\n",
              "      <td>2</td>\n",
              "      <td>2</td>\n",
              "      <td>0</td>\n",
              "      <td>0.153584</td>\n",
              "      <td>0.024163</td>\n",
              "      <td>0.866667</td>\n",
              "      <td>0.065230</td>\n",
              "      <td>0.163265</td>\n",
              "      <td>0.000000</td>\n",
              "      <td>0.000000</td>\n",
              "    </tr>\n",
              "    <tr>\n",
              "      <th>1</th>\n",
              "      <td>6</td>\n",
              "      <td>10</td>\n",
              "      <td>2</td>\n",
              "      <td>0</td>\n",
              "      <td>0</td>\n",
              "      <td>0</td>\n",
              "      <td>0</td>\n",
              "      <td>2</td>\n",
              "      <td>2</td>\n",
              "      <td>0</td>\n",
              "      <td>0.136519</td>\n",
              "      <td>0.029542</td>\n",
              "      <td>0.833333</td>\n",
              "      <td>0.084741</td>\n",
              "      <td>0.306122</td>\n",
              "      <td>0.000000</td>\n",
              "      <td>0.000000</td>\n",
              "    </tr>\n",
              "    <tr>\n",
              "      <th>2</th>\n",
              "      <td>10</td>\n",
              "      <td>11</td>\n",
              "      <td>1</td>\n",
              "      <td>0</td>\n",
              "      <td>0</td>\n",
              "      <td>0</td>\n",
              "      <td>0</td>\n",
              "      <td>12</td>\n",
              "      <td>1</td>\n",
              "      <td>1</td>\n",
              "      <td>0.078498</td>\n",
              "      <td>0.032172</td>\n",
              "      <td>0.033333</td>\n",
              "      <td>0.143856</td>\n",
              "      <td>0.000000</td>\n",
              "      <td>0.222491</td>\n",
              "      <td>0.081081</td>\n",
              "    </tr>\n",
              "    <tr>\n",
              "      <th>3</th>\n",
              "      <td>5</td>\n",
              "      <td>6</td>\n",
              "      <td>1</td>\n",
              "      <td>0</td>\n",
              "      <td>0</td>\n",
              "      <td>0</td>\n",
              "      <td>1</td>\n",
              "      <td>4</td>\n",
              "      <td>2</td>\n",
              "      <td>0</td>\n",
              "      <td>0.160410</td>\n",
              "      <td>0.034101</td>\n",
              "      <td>0.266667</td>\n",
              "      <td>0.039313</td>\n",
              "      <td>0.081633</td>\n",
              "      <td>0.000000</td>\n",
              "      <td>0.000000</td>\n",
              "    </tr>\n",
              "    <tr>\n",
              "      <th>4</th>\n",
              "      <td>3</td>\n",
              "      <td>11</td>\n",
              "      <td>0</td>\n",
              "      <td>0</td>\n",
              "      <td>1</td>\n",
              "      <td>0</td>\n",
              "      <td>2</td>\n",
              "      <td>9</td>\n",
              "      <td>2</td>\n",
              "      <td>0</td>\n",
              "      <td>0.078498</td>\n",
              "      <td>0.025768</td>\n",
              "      <td>0.733333</td>\n",
              "      <td>0.105416</td>\n",
              "      <td>0.000000</td>\n",
              "      <td>0.000000</td>\n",
              "      <td>0.000000</td>\n",
              "    </tr>\n",
              "  </tbody>\n",
              "</table>\n",
              "</div>\n",
              "      <button class=\"colab-df-convert\" onclick=\"convertToInteractive('df-82615a82-db00-4aec-8cb4-e4d933990b0a')\"\n",
              "              title=\"Convert this dataframe to an interactive table.\"\n",
              "              style=\"display:none;\">\n",
              "        \n",
              "  <svg xmlns=\"http://www.w3.org/2000/svg\" height=\"24px\"viewBox=\"0 0 24 24\"\n",
              "       width=\"24px\">\n",
              "    <path d=\"M0 0h24v24H0V0z\" fill=\"none\"/>\n",
              "    <path d=\"M18.56 5.44l.94 2.06.94-2.06 2.06-.94-2.06-.94-.94-2.06-.94 2.06-2.06.94zm-11 1L8.5 8.5l.94-2.06 2.06-.94-2.06-.94L8.5 2.5l-.94 2.06-2.06.94zm10 10l.94 2.06.94-2.06 2.06-.94-2.06-.94-.94-2.06-.94 2.06-2.06.94z\"/><path d=\"M17.41 7.96l-1.37-1.37c-.4-.4-.92-.59-1.43-.59-.52 0-1.04.2-1.43.59L10.3 9.45l-7.72 7.72c-.78.78-.78 2.05 0 2.83L4 21.41c.39.39.9.59 1.41.59.51 0 1.02-.2 1.41-.59l7.78-7.78 2.81-2.81c.8-.78.8-2.07 0-2.86zM5.41 20L4 18.59l7.72-7.72 1.47 1.35L5.41 20z\"/>\n",
              "  </svg>\n",
              "      </button>\n",
              "      \n",
              "  <style>\n",
              "    .colab-df-container {\n",
              "      display:flex;\n",
              "      flex-wrap:wrap;\n",
              "      gap: 12px;\n",
              "    }\n",
              "\n",
              "    .colab-df-convert {\n",
              "      background-color: #E8F0FE;\n",
              "      border: none;\n",
              "      border-radius: 50%;\n",
              "      cursor: pointer;\n",
              "      display: none;\n",
              "      fill: #1967D2;\n",
              "      height: 32px;\n",
              "      padding: 0 0 0 0;\n",
              "      width: 32px;\n",
              "    }\n",
              "\n",
              "    .colab-df-convert:hover {\n",
              "      background-color: #E2EBFA;\n",
              "      box-shadow: 0px 1px 2px rgba(60, 64, 67, 0.3), 0px 1px 3px 1px rgba(60, 64, 67, 0.15);\n",
              "      fill: #174EA6;\n",
              "    }\n",
              "\n",
              "    [theme=dark] .colab-df-convert {\n",
              "      background-color: #3B4455;\n",
              "      fill: #D2E3FC;\n",
              "    }\n",
              "\n",
              "    [theme=dark] .colab-df-convert:hover {\n",
              "      background-color: #434B5C;\n",
              "      box-shadow: 0px 1px 3px 1px rgba(0, 0, 0, 0.15);\n",
              "      filter: drop-shadow(0px 1px 2px rgba(0, 0, 0, 0.3));\n",
              "      fill: #FFFFFF;\n",
              "    }\n",
              "  </style>\n",
              "\n",
              "      <script>\n",
              "        const buttonEl =\n",
              "          document.querySelector('#df-82615a82-db00-4aec-8cb4-e4d933990b0a button.colab-df-convert');\n",
              "        buttonEl.style.display =\n",
              "          google.colab.kernel.accessAllowed ? 'block' : 'none';\n",
              "\n",
              "        async function convertToInteractive(key) {\n",
              "          const element = document.querySelector('#df-82615a82-db00-4aec-8cb4-e4d933990b0a');\n",
              "          const dataTable =\n",
              "            await google.colab.kernel.invokeFunction('convertToInteractive',\n",
              "                                                     [key], {});\n",
              "          if (!dataTable) return;\n",
              "\n",
              "          const docLinkHtml = 'Like what you see? Visit the ' +\n",
              "            '<a target=\"_blank\" href=https://colab.research.google.com/notebooks/data_table.ipynb>data table notebook</a>'\n",
              "            + ' to learn more about interactive tables.';\n",
              "          element.innerHTML = '';\n",
              "          dataTable['output_type'] = 'display_data';\n",
              "          await google.colab.output.renderOutput(dataTable, element);\n",
              "          const docLink = document.createElement('div');\n",
              "          docLink.innerHTML = docLinkHtml;\n",
              "          element.appendChild(docLink);\n",
              "        }\n",
              "      </script>\n",
              "    </div>\n",
              "  </div>\n",
              "  "
            ]
          },
          "metadata": {},
          "execution_count": 35
        }
      ]
    },
    {
      "cell_type": "markdown",
      "source": [
        "Save your clean dataset in a file called **bank_clean.csv**. Submit this file along with the ipynb solution file. "
      ],
      "metadata": {
        "id": "UWT5NohBoJjV"
      }
    },
    {
      "cell_type": "code",
      "source": [
        "bank_cleaned_dataset.to_csv('bank_cleaned_dataset.data')"
      ],
      "metadata": {
        "id": "sb0bhI3D31fW"
      },
      "execution_count": null,
      "outputs": []
    },
    {
      "cell_type": "markdown",
      "source": [
        "[HP 2] What is the average duration of calls made in the month of November? Plot a histogram of call duration in the month of November."
      ],
      "metadata": {
        "id": "54AMLMvoBLb7"
      }
    },
    {
      "cell_type": "code",
      "source": [
        "## Your code for HP 2 goes here. \n",
        "sum_of_average_duration = sum(bank_dataframe[bank_dataframe['month']=='nov']['duration'])\n",
        "length_of_sum = len(bank_dataframe[bank_dataframe['month']=='nov']['duration'])\n",
        "print(sum_of_average_duration/length_of_sum)"
      ],
      "metadata": {
        "id": "mudCWehNCn06",
        "colab": {
          "base_uri": "https://localhost:8080/"
        },
        "outputId": "8ef3feed-ec44-43ea-fb4f-94034e4f65d2"
      },
      "execution_count": null,
      "outputs": [
        {
          "output_type": "stream",
          "name": "stdout",
          "text": [
            "287.8238636363636\n"
          ]
        }
      ]
    },
    {
      "cell_type": "markdown",
      "source": [
        "Thus average duration of call in the month of number is 287.82 min as we see above."
      ],
      "metadata": {
        "id": "PWtSrU5wv5lT"
      }
    },
    {
      "cell_type": "code",
      "source": [
        "column_of_duration_day = bank_dataframe[bank_dataframe['month']=='nov'][['duration','day']]"
      ],
      "metadata": {
        "id": "QqViGHWZwFyF"
      },
      "execution_count": null,
      "outputs": []
    },
    {
      "cell_type": "code",
      "source": [
        "fig, ax = plt.subplots(figsize =(10, 7))\n",
        "ax.hist(column_of_duration_day['duration'], bins = 40)\n",
        "plt.show()"
      ],
      "metadata": {
        "colab": {
          "base_uri": "https://localhost:8080/",
          "height": 599
        },
        "id": "gMOZrZcAwJPk",
        "outputId": "ed4c409d-b8fa-472f-aa46-b010c44f7245"
      },
      "execution_count": null,
      "outputs": [
        {
          "output_type": "display_data",
          "data": {
            "text/plain": [
              "<Figure size 1000x700 with 1 Axes>"
            ],
            "image/png": "[encoded data removed]"
          },
          "metadata": {}
        }
      ]
    },
    {
      "cell_type": "markdown",
      "source": [
        "[HP 3] How many times on an average were customers whose \"poutcome\" was \"success\" contacted previously (\"previous\" column contains this information)? How does this compare to the customers whose \"poutcome\" was \"failure\" or \"other\"? What insight does this step provide for the business objective of having a successful campaign? "
      ],
      "metadata": {
        "id": "3l1ztNR5BbPa"
      }
    },
    {
      "cell_type": "code",
      "source": [
        "## Your code for HP 3 goes here. \n",
        "print(\"Value count: \\n\",bank_dataframe['poutcome'].value_counts(),end=\"     \\n\")\n",
        "print(\"Sum of is not null: \",bank_dataframe['poutcome'].isna().sum())"
      ],
      "metadata": {
        "id": "49nC0392n5cG",
        "colab": {
          "base_uri": "https://localhost:8080/"
        },
        "outputId": "7eaa737d-3667-42bf-8775-07199fee6d21"
      },
      "execution_count": null,
      "outputs": [
        {
          "output_type": "stream",
          "name": "stdout",
          "text": [
            "Value count: \n",
            " unknown    1831\n",
            "failure     251\n",
            "success      80\n",
            "Name: poutcome, dtype: int64     \n",
            "Sum of is not null:  89\n"
          ]
        }
      ]
    },
    {
      "cell_type": "code",
      "source": [
        "bank_cleaned_dataset.head(5)"
      ],
      "metadata": {
        "colab": {
          "base_uri": "https://localhost:8080/",
          "height": 206
        },
        "id": "ZWcvkgPCwdAP",
        "outputId": "5aa76964-ae8d-407e-e747-85a656a26e7c"
      },
      "execution_count": null,
      "outputs": [
        {
          "output_type": "execute_result",
          "data": {
            "text/plain": [
              "   job  marital  education  default  housing  loan  contact  month  poutcome  \\\n",
              "0    6       10          2        0        1     1        0      2         2   \n",
              "1    6       10          2        0        0     0        0      2         2   \n",
              "2   10       11          1        0        0     0        0     12         1   \n",
              "3    5        6          1        0        0     0        1      4         2   \n",
              "4    3       11          0        0        1     0        2      9         2   \n",
              "\n",
              "   y       age   balance       day  duration  campaign     pdays  previous  \n",
              "0  0  0.153584  0.024163  0.866667  0.065230  0.163265  0.000000  0.000000  \n",
              "1  0  0.136519  0.029542  0.833333  0.084741  0.306122  0.000000  0.000000  \n",
              "2  1  0.078498  0.032172  0.033333  0.143856  0.000000  0.222491  0.081081  \n",
              "3  0  0.160410  0.034101  0.266667  0.039313  0.081633  0.000000  0.000000  \n",
              "4  0  0.078498  0.025768  0.733333  0.105416  0.000000  0.000000  0.000000  "
            ],
            "text/html": [
              "\n",
              "  <div id=\"df-f309dd60-eef0-4b43-b0b6-6e44e63c8acb\">\n",
              "    <div class=\"colab-df-container\">\n",
              "      <div>\n",
              "<style scoped>\n",
              "    .dataframe tbody tr th:only-of-type {\n",
              "        vertical-align: middle;\n",
              "    }\n",
              "\n",
              "    .dataframe tbody tr th {\n",
              "        vertical-align: top;\n",
              "    }\n",
              "\n",
              "    .dataframe thead th {\n",
              "        text-align: right;\n",
              "    }\n",
              "</style>\n",
              "<table border=\"1\" class=\"dataframe\">\n",
              "  <thead>\n",
              "    <tr style=\"text-align: right;\">\n",
              "      <th></th>\n",
              "      <th>job</th>\n",
              "      <th>marital</th>\n",
              "      <th>education</th>\n",
              "      <th>default</th>\n",
              "      <th>housing</th>\n",
              "      <th>loan</th>\n",
              "      <th>contact</th>\n",
              "      <th>month</th>\n",
              "      <th>poutcome</th>\n",
              "      <th>y</th>\n",
              "      <th>age</th>\n",
              "      <th>balance</th>\n",
              "      <th>day</th>\n",
              "      <th>duration</th>\n",
              "      <th>campaign</th>\n",
              "      <th>pdays</th>\n",
              "      <th>previous</th>\n",
              "    </tr>\n",
              "  </thead>\n",
              "  <tbody>\n",
              "    <tr>\n",
              "      <th>0</th>\n",
              "      <td>6</td>\n",
              "      <td>10</td>\n",
              "      <td>2</td>\n",
              "      <td>0</td>\n",
              "      <td>1</td>\n",
              "      <td>1</td>\n",
              "      <td>0</td>\n",
              "      <td>2</td>\n",
              "      <td>2</td>\n",
              "      <td>0</td>\n",
              "      <td>0.153584</td>\n",
              "      <td>0.024163</td>\n",
              "      <td>0.866667</td>\n",
              "      <td>0.065230</td>\n",
              "      <td>0.163265</td>\n",
              "      <td>0.000000</td>\n",
              "      <td>0.000000</td>\n",
              "    </tr>\n",
              "    <tr>\n",
              "      <th>1</th>\n",
              "      <td>6</td>\n",
              "      <td>10</td>\n",
              "      <td>2</td>\n",
              "      <td>0</td>\n",
              "      <td>0</td>\n",
              "      <td>0</td>\n",
              "      <td>0</td>\n",
              "      <td>2</td>\n",
              "      <td>2</td>\n",
              "      <td>0</td>\n",
              "      <td>0.136519</td>\n",
              "      <td>0.029542</td>\n",
              "      <td>0.833333</td>\n",
              "      <td>0.084741</td>\n",
              "      <td>0.306122</td>\n",
              "      <td>0.000000</td>\n",
              "      <td>0.000000</td>\n",
              "    </tr>\n",
              "    <tr>\n",
              "      <th>2</th>\n",
              "      <td>10</td>\n",
              "      <td>11</td>\n",
              "      <td>1</td>\n",
              "      <td>0</td>\n",
              "      <td>0</td>\n",
              "      <td>0</td>\n",
              "      <td>0</td>\n",
              "      <td>12</td>\n",
              "      <td>1</td>\n",
              "      <td>1</td>\n",
              "      <td>0.078498</td>\n",
              "      <td>0.032172</td>\n",
              "      <td>0.033333</td>\n",
              "      <td>0.143856</td>\n",
              "      <td>0.000000</td>\n",
              "      <td>0.222491</td>\n",
              "      <td>0.081081</td>\n",
              "    </tr>\n",
              "    <tr>\n",
              "      <th>3</th>\n",
              "      <td>5</td>\n",
              "      <td>6</td>\n",
              "      <td>1</td>\n",
              "      <td>0</td>\n",
              "      <td>0</td>\n",
              "      <td>0</td>\n",
              "      <td>1</td>\n",
              "      <td>4</td>\n",
              "      <td>2</td>\n",
              "      <td>0</td>\n",
              "      <td>0.160410</td>\n",
              "      <td>0.034101</td>\n",
              "      <td>0.266667</td>\n",
              "      <td>0.039313</td>\n",
              "      <td>0.081633</td>\n",
              "      <td>0.000000</td>\n",
              "      <td>0.000000</td>\n",
              "    </tr>\n",
              "    <tr>\n",
              "      <th>4</th>\n",
              "      <td>3</td>\n",
              "      <td>11</td>\n",
              "      <td>0</td>\n",
              "      <td>0</td>\n",
              "      <td>1</td>\n",
              "      <td>0</td>\n",
              "      <td>2</td>\n",
              "      <td>9</td>\n",
              "      <td>2</td>\n",
              "      <td>0</td>\n",
              "      <td>0.078498</td>\n",
              "      <td>0.025768</td>\n",
              "      <td>0.733333</td>\n",
              "      <td>0.105416</td>\n",
              "      <td>0.000000</td>\n",
              "      <td>0.000000</td>\n",
              "      <td>0.000000</td>\n",
              "    </tr>\n",
              "  </tbody>\n",
              "</table>\n",
              "</div>\n",
              "      <button class=\"colab-df-convert\" onclick=\"convertToInteractive('df-f309dd60-eef0-4b43-b0b6-6e44e63c8acb')\"\n",
              "              title=\"Convert this dataframe to an interactive table.\"\n",
              "              style=\"display:none;\">\n",
              "        \n",
              "  <svg xmlns=\"http://www.w3.org/2000/svg\" height=\"24px\"viewBox=\"0 0 24 24\"\n",
              "       width=\"24px\">\n",
              "    <path d=\"M0 0h24v24H0V0z\" fill=\"none\"/>\n",
              "    <path d=\"M18.56 5.44l.94 2.06.94-2.06 2.06-.94-2.06-.94-.94-2.06-.94 2.06-2.06.94zm-11 1L8.5 8.5l.94-2.06 2.06-.94-2.06-.94L8.5 2.5l-.94 2.06-2.06.94zm10 10l.94 2.06.94-2.06 2.06-.94-2.06-.94-.94-2.06-.94 2.06-2.06.94z\"/><path d=\"M17.41 7.96l-1.37-1.37c-.4-.4-.92-.59-1.43-.59-.52 0-1.04.2-1.43.59L10.3 9.45l-7.72 7.72c-.78.78-.78 2.05 0 2.83L4 21.41c.39.39.9.59 1.41.59.51 0 1.02-.2 1.41-.59l7.78-7.78 2.81-2.81c.8-.78.8-2.07 0-2.86zM5.41 20L4 18.59l7.72-7.72 1.47 1.35L5.41 20z\"/>\n",
              "  </svg>\n",
              "      </button>\n",
              "      \n",
              "  <style>\n",
              "    .colab-df-container {\n",
              "      display:flex;\n",
              "      flex-wrap:wrap;\n",
              "      gap: 12px;\n",
              "    }\n",
              "\n",
              "    .colab-df-convert {\n",
              "      background-color: #E8F0FE;\n",
              "      border: none;\n",
              "      border-radius: 50%;\n",
              "      cursor: pointer;\n",
              "      display: none;\n",
              "      fill: #1967D2;\n",
              "      height: 32px;\n",
              "      padding: 0 0 0 0;\n",
              "      width: 32px;\n",
              "    }\n",
              "\n",
              "    .colab-df-convert:hover {\n",
              "      background-color: #E2EBFA;\n",
              "      box-shadow: 0px 1px 2px rgba(60, 64, 67, 0.3), 0px 1px 3px 1px rgba(60, 64, 67, 0.15);\n",
              "      fill: #174EA6;\n",
              "    }\n",
              "\n",
              "    [theme=dark] .colab-df-convert {\n",
              "      background-color: #3B4455;\n",
              "      fill: #D2E3FC;\n",
              "    }\n",
              "\n",
              "    [theme=dark] .colab-df-convert:hover {\n",
              "      background-color: #434B5C;\n",
              "      box-shadow: 0px 1px 3px 1px rgba(0, 0, 0, 0.15);\n",
              "      filter: drop-shadow(0px 1px 2px rgba(0, 0, 0, 0.3));\n",
              "      fill: #FFFFFF;\n",
              "    }\n",
              "  </style>\n",
              "\n",
              "      <script>\n",
              "        const buttonEl =\n",
              "          document.querySelector('#df-f309dd60-eef0-4b43-b0b6-6e44e63c8acb button.colab-df-convert');\n",
              "        buttonEl.style.display =\n",
              "          google.colab.kernel.accessAllowed ? 'block' : 'none';\n",
              "\n",
              "        async function convertToInteractive(key) {\n",
              "          const element = document.querySelector('#df-f309dd60-eef0-4b43-b0b6-6e44e63c8acb');\n",
              "          const dataTable =\n",
              "            await google.colab.kernel.invokeFunction('convertToInteractive',\n",
              "                                                     [key], {});\n",
              "          if (!dataTable) return;\n",
              "\n",
              "          const docLinkHtml = 'Like what you see? Visit the ' +\n",
              "            '<a target=\"_blank\" href=https://colab.research.google.com/notebooks/data_table.ipynb>data table notebook</a>'\n",
              "            + ' to learn more about interactive tables.';\n",
              "          element.innerHTML = '';\n",
              "          dataTable['output_type'] = 'display_data';\n",
              "          await google.colab.output.renderOutput(dataTable, element);\n",
              "          const docLink = document.createElement('div');\n",
              "          docLink.innerHTML = docLinkHtml;\n",
              "          element.appendChild(docLink);\n",
              "        }\n",
              "      </script>\n",
              "    </div>\n",
              "  </div>\n",
              "  "
            ]
          },
          "metadata": {},
          "execution_count": 44
        }
      ]
    },
    {
      "cell_type": "code",
      "source": [
        "print(\"Previous is greater then 0: \",len(bank_cleaned_dataset[bank_cleaned_dataset['previous'] > 0]))\n",
        "print(\"Total poutcome which is not null: \",bank_dataframe['poutcome'].isna().sum())"
      ],
      "metadata": {
        "colab": {
          "base_uri": "https://localhost:8080/"
        },
        "id": "yHJVrQ1i4ISB",
        "outputId": "b97f7696-f6e0-404a-ad7e-e55c4661b242"
      },
      "execution_count": null,
      "outputs": [
        {
          "output_type": "stream",
          "name": "stdout",
          "text": [
            "Previous is greater then 0:  421\n",
            "Total poutcome which is not null:  89\n"
          ]
        }
      ]
    },
    {
      "cell_type": "markdown",
      "source": [
        "The consumers whose outcome was \"success\" were contacted on average 2.759 times \n",
        "comparable with an unsuccessful attempt"
      ],
      "metadata": {
        "id": "gCEhrBj-4QPn"
      }
    },
    {
      "cell_type": "code",
      "source": [
        "failed_previous_poutcome = pd.DataFrame(bank_dataframe[bank_dataframe['poutcome'] == 'failure']['previous'])\n",
        "failed_previous_poutcome.head()\n",
        "failed_prev_sum = failed_previous_poutcome['previous'].sum()\n",
        "lenght = len(failed_previous_poutcome['previous'])\n",
        "print(failed_prev_sum/lenght)"
      ],
      "metadata": {
        "colab": {
          "base_uri": "https://localhost:8080/"
        },
        "id": "UO_Jm50i4e5u",
        "outputId": "4f33c04d-02ab-4982-a37b-523cf3056e1d"
      },
      "execution_count": null,
      "outputs": [
        {
          "output_type": "stream",
          "name": "stdout",
          "text": [
            "2.9840637450199203\n"
          ]
        }
      ]
    },
    {
      "cell_type": "markdown",
      "source": [
        "With regard to the \"outcome\" feature, the average number of customers who were previously contacted and whose \"outcome\" was \"success,\" according to the data provided, is 2.759.\n",
        "\n",
        "There were typically 2.984 consumers who had previously been contacted \"outcome\" was \"failure.\"\n",
        "\n",
        "The ratio of \"result\" -> \"success\" vs. \"failure\" in terms of the people who were previously contacted is 0.924 times.\n",
        "\n",
        "For \"other,\" there isn't a value with the name \"other.\""
      ],
      "metadata": {
        "id": "zR4BYIWt4l7B"
      }
    },
    {
      "cell_type": "markdown",
      "source": [
        "# References\n",
        "Include ALL your references here.\n",
        "\n",
        "some you tube videos,\n",
        "https://www.w3schools.com/python/pandas/default.asp\n",
        "https://www.geeksforgeeks.org/standardscaler-minmaxscaler-and-robustscaler-techniques-ml/#:~:text=StandardScaler%20follows%20Standard%20Normal%20Distribution,negative%20values%20in%20the%20dataset.\n",
        "https://scikit-learn.org/stable/modules/generated/sklearn.preprocessing.MinMaxScaler.html\n",
        "\n",
        "# What to turn in:\n",
        "1. The ipynb solution file, which includes the references\n",
        "2. If you use Colab or GitHub for version control, please share a link to your notebook or GitHub repository\n",
        "3. The bank_clean.csv file\n",
        "\n"
      ],
      "metadata": {
        "id": "VQYb_dd3obyT"
      }
    }
  ]
}